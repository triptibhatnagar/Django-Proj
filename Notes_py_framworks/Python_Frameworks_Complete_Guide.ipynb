{
 "cells": [
  {
   "cell_type": "markdown",
   "id": "dbcb05d4",
   "metadata": {},
   "source": [
    "# Complete Guide: Python Web Frameworks & Execution\n",
    "This notebook includes visualization examples, web framework snippets (Flask, Bottle, Django, Falcon, TurboGears), and step-by-step instructions to run `.py` files."
   ]
  },
  {
   "cell_type": "markdown",
   "id": "fd6b1148",
   "metadata": {},
   "source": [
    "## Matplotlib_Line_Plot"
   ]
  },
  {
   "cell_type": "code",
   "execution_count": null,
   "id": "151895fa",
   "metadata": {},
   "outputs": [],
   "source": [
    "import matplotlib.pyplot as plt\n",
    "x = [1, 2, 3, 4]\n",
    "y = [10, 20, 25, 30]\n",
    "plt.plot(x, y)\n",
    "plt.title('Line Plot')\n",
    "plt.xlabel('x-axis')\n",
    "plt.ylabel('y-axis')\n",
    "plt.show()"
   ]
  },
  {
   "cell_type": "markdown",
   "id": "909c552c",
   "metadata": {},
   "source": [
    "## Matplotlib_Bar_Chart"
   ]
  },
  {
   "cell_type": "code",
   "execution_count": null,
   "id": "5a1be520",
   "metadata": {},
   "outputs": [],
   "source": [
    "import matplotlib.pyplot as plt\n",
    "x = ['A', 'B', 'C']\n",
    "y = [5, 7, 3]\n",
    "plt.bar(x, y, color='orange')\n",
    "plt.title('Bar Chart')\n",
    "plt.show()"
   ]
  },
  {
   "cell_type": "markdown",
   "id": "4a89877c",
   "metadata": {},
   "source": [
    "## Matplotlib_Pie_Chart"
   ]
  },
  {
   "cell_type": "code",
   "execution_count": null,
   "id": "16737d2d",
   "metadata": {},
   "outputs": [],
   "source": [
    "import matplotlib.pyplot as plt\n",
    "sizes = [25, 35, 40]\n",
    "labels = ['Apples', 'Bananas', 'Cherries']\n",
    "plt.pie(sizes, labels=labels, autopct='%1.1f%%')\n",
    "plt.title('Pie Chart')\n",
    "plt.show()"
   ]
  },
  {
   "cell_type": "markdown",
   "id": "b20cefcf",
   "metadata": {},
   "source": [
    "## Seaborn_Heatmap"
   ]
  },
  {
   "cell_type": "code",
   "execution_count": null,
   "id": "a6a1ef5a",
   "metadata": {},
   "outputs": [],
   "source": [
    "import seaborn as sns\n",
    "import numpy as np\n",
    "import matplotlib.pyplot as plt\n",
    "data = np.random.rand(4, 6)\n",
    "sns.heatmap(data, annot=True)\n",
    "plt.title('Heatmap')\n",
    "plt.show()"
   ]
  },
  {
   "cell_type": "markdown",
   "id": "049a0474",
   "metadata": {},
   "source": [
    "## Seaborn_Scatterplot"
   ]
  },
  {
   "cell_type": "code",
   "execution_count": null,
   "id": "6bff92e3",
   "metadata": {},
   "outputs": [],
   "source": [
    "import seaborn as sns\n",
    "import matplotlib.pyplot as plt\n",
    "import pandas as pd\n",
    "df = pd.DataFrame({'x': [1, 2, 3, 4], 'y': [10, 20, 25, 30]})\n",
    "sns.scatterplot(x='x', y='y', data=df)\n",
    "plt.title('Scatter Plot')\n",
    "plt.show()"
   ]
  },
  {
   "cell_type": "markdown",
   "id": "7f2ea231",
   "metadata": {},
   "source": [
    "## Flask_Basic_App"
   ]
  },
  {
   "cell_type": "code",
   "execution_count": null,
   "id": "3733705f",
   "metadata": {},
   "outputs": [],
   "source": [
    "from flask import Flask\n",
    "app = Flask(__name__)\n",
    "@app.route('/')\n",
    "def home():\n",
    "    return \"Hello, Flask!\"\n",
    "if __name__ == '__main__':\n",
    "    app.run(debug=True)"
   ]
  },
  {
   "cell_type": "markdown",
   "id": "178cea6f",
   "metadata": {},
   "source": [
    "## Flask_Route_With_Variable"
   ]
  },
  {
   "cell_type": "code",
   "execution_count": null,
   "id": "f5fae443",
   "metadata": {},
   "outputs": [],
   "source": [
    "from flask import Flask\n",
    "app = Flask(__name__)\n",
    "@app.route('/hello/<name>')\n",
    "def hello_name(name):\n",
    "    return f\"Hello {name}!\"\n",
    "if __name__ == '__main__':\n",
    "    app.run(debug=True)"
   ]
  },
  {
   "cell_type": "markdown",
   "id": "96312a16",
   "metadata": {},
   "source": [
    "## Bottle_Basic_App"
   ]
  },
  {
   "cell_type": "code",
   "execution_count": null,
   "id": "08d412ad",
   "metadata": {},
   "outputs": [],
   "source": [
    "from bottle import route, run\n",
    "@route('/')\n",
    "def home():\n",
    "    return \"Hello from Bottle!\"\n",
    "run(host='localhost', port=8080, debug=True)"
   ]
  },
  {
   "cell_type": "markdown",
   "id": "10725fa7",
   "metadata": {},
   "source": [
    "## Bottle_Route_With_Variable"
   ]
  },
  {
   "cell_type": "code",
   "execution_count": null,
   "id": "20642511",
   "metadata": {},
   "outputs": [],
   "source": [
    "from bottle import route, run\n",
    "@route('/hello/<name>')\n",
    "def greet(name):\n",
    "    return f\"Hello {name}!\"\n",
    "run(host='localhost', port=8080, debug=True)"
   ]
  },
  {
   "cell_type": "markdown",
   "id": "7148e03b",
   "metadata": {},
   "source": [
    "## TurboGears_Basic_Example"
   ]
  },
  {
   "cell_type": "code",
   "execution_count": null,
   "id": "f556be06",
   "metadata": {},
   "outputs": [],
   "source": [
    "# TurboGears sample controller method\n",
    "# Real use requires project setup\n",
    "from tg import expose, TGController\n",
    "class RootController(TGController):\n",
    "    @expose()\n",
    "    def index(self):\n",
    "        return \"Hello from TurboGears!\" "
   ]
  },
  {
   "cell_type": "markdown",
   "id": "92d0d094",
   "metadata": {},
   "source": [
    "## Falcon_Basic_App"
   ]
  },
  {
   "cell_type": "code",
   "execution_count": null,
   "id": "200358af",
   "metadata": {},
   "outputs": [],
   "source": [
    "import falcon\n",
    "class HelloWorld:\n",
    "    def on_get(self, req, resp):\n",
    "        resp.text = 'Hello from Falcon!'\n",
    "app = falcon.App()\n",
    "app.add_route('/', HelloWorld())"
   ]
  },
  {
   "cell_type": "markdown",
   "id": "511497f0",
   "metadata": {},
   "source": [
    "## Django_URL_View_Example"
   ]
  },
  {
   "cell_type": "code",
   "execution_count": null,
   "id": "ba6b6212",
   "metadata": {},
   "outputs": [],
   "source": [
    "# urls.py\n",
    "from django.urls import path\n",
    "from . import views\n",
    "urlpatterns = [\n",
    "    path('', views.home, name='home')\n",
    "]\n",
    "\n",
    "# views.py\n",
    "from django.http import HttpResponse\n",
    "def home(request):\n",
    "    return HttpResponse(\"Hello from Django!\")\n"
   ]
  },
  {
   "cell_type": "markdown",
   "id": "943dda18",
   "metadata": {},
   "source": [
    "## Django_Model_Form"
   ]
  },
  {
   "cell_type": "code",
   "execution_count": null,
   "id": "58ba29b3",
   "metadata": {},
   "outputs": [],
   "source": [
    "# models.py\n",
    "from django.db import models\n",
    "class Student(models.Model):\n",
    "    name = models.CharField(max_length=100)\n",
    "\n",
    "# forms.py\n",
    "from django import forms\n",
    "from .models import Student\n",
    "class StudentForm(forms.ModelForm):\n",
    "    class Meta:\n",
    "        model = Student\n",
    "        fields = ['name']\n"
   ]
  },
  {
   "cell_type": "markdown",
   "id": "68b9a2a0",
   "metadata": {},
   "source": [
    "## Django_Template_Example"
   ]
  },
  {
   "cell_type": "code",
   "execution_count": null,
   "id": "7d664c72",
   "metadata": {},
   "outputs": [],
   "source": [
    "<!-- template.html -->\n",
    "<html>\n",
    "  <body>\n",
    "    <h1>Hello {{ name }}</h1>\n",
    "  </body>\n",
    "</html>"
   ]
  },
  {
   "cell_type": "markdown",
   "id": "875466b2",
   "metadata": {},
   "source": [
    "## ✅ How to Run a `.py` File\n",
    "Instructions to run Python files using different tools."
   ]
  },
  {
   "cell_type": "markdown",
   "id": "ea8d3615",
   "metadata": {},
   "source": [
    "## ✅ Option 1: Using Command Prompt / Terminal\n",
    "\n",
    "### Steps:\n",
    "1. Open **Command Prompt** (on Windows) or **Terminal** (on macOS/Linux).\n",
    "2. Navigate to your Python file's folder:\n",
    "   ```bash\n",
    "   cd path\\to\\your\\project\n",
    "   ```\n",
    "   Example:\n",
    "   ```bash\n",
    "   cd C:\\Users\\lenovo\\Documents\\python_projects\n",
    "   ```\n",
    "3. Run the `.py` file:\n",
    "   ```bash\n",
    "   python filename.py\n",
    "   ```\n",
    "   Example:\n",
    "   ```bash\n",
    "   python flask_app.py\n",
    "   ```\n"
   ]
  },
  {
   "cell_type": "markdown",
   "id": "d49d0d36",
   "metadata": {},
   "source": [
    "## ✅ Option 2: Using VS Code\n",
    "\n",
    "### Steps:\n",
    "1. Open **Visual Studio Code**.\n",
    "2. Go to `File → Open Folder` and select the folder containing your `.py` file.\n",
    "3. Open the `.py` file from the sidebar.\n",
    "4. Click the **Run ▶** button at the top-right corner, or press:\n",
    "   - `Ctrl + F5` → Run without debugging\n",
    "   - `F5` → Run with debugging\n"
   ]
  },
  {
   "cell_type": "markdown",
   "id": "9027aa83",
   "metadata": {},
   "source": [
    "## ✅ Option 3: From Jupyter Terminal\n",
    "\n",
    "### Steps:\n",
    "1. Go to your Jupyter Notebook homepage.\n",
    "2. Click on `New → Terminal` to open a terminal.\n",
    "3. In the terminal, type:\n",
    "   ```bash\n",
    "   python yourfile.py\n",
    "   ```\n",
    "   Example:\n",
    "   ```bash\n",
    "   python flask_app.py\n",
    "   ```\n",
    "\n",
    "Your Flask app will run, and you can visit it in the browser at:\n",
    "```\n",
    "http://127.0.0.1:5000\n",
    "```\n"
   ]
  },
  {
   "cell_type": "markdown",
   "id": "6e6b7cf9",
   "metadata": {},
   "source": [
    "## 🧪 Example: Flask App (`flask_app.py`)\n",
    "\n",
    "Save this code as `flask_app.py`:\n",
    "\n",
    "```python\n",
    "from flask import Flask\n",
    "\n",
    "app = Flask(__name__)\n",
    "\n",
    "@app.route('/')\n",
    "def home():\n",
    "    return \"Hello, Flask!\"\n",
    "\n",
    "if __name__ == '__main__':\n",
    "    app.run(debug=True)\n",
    "```\n",
    "\n",
    "Then run:\n",
    "```bash\n",
    "python flask_app.py\n",
    "```\n",
    "\n",
    "Open in browser:\n",
    "👉 http://127.0.0.1:5000\n"
   ]
  }
 ],
 "metadata": {
  "language_info": {
   "name": "python"
  }
 },
 "nbformat": 4,
 "nbformat_minor": 5
}
