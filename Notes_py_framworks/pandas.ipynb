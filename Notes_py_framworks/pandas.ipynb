{
 "cells": [
  {
   "cell_type": "markdown",
   "id": "02964026",
   "metadata": {
    "id": "02964026"
   },
   "source": [
    "## Assignment/ Homework 8_pandas\n",
    "\n",
    "** Answer the following questions **"
   ]
  },
  {
   "cell_type": "code",
   "execution_count": null,
   "id": "3ade3381",
   "metadata": {
    "id": "3ade3381"
   },
   "outputs": [],
   "source": [
    "# All the Best!!!!\n",
    "# Don't forget to import Pandas and NumPy Library"
   ]
  },
  {
   "cell_type": "code",
   "execution_count": 9,
   "id": "d849bc35",
   "metadata": {
    "id": "d849bc35"
   },
   "outputs": [
    {
     "name": "stdout",
     "output_type": "stream",
     "text": [
      "Series x:\n",
      " 0    P\n",
      "1    Y\n",
      "2    T\n",
      "3    H\n",
      "4    O\n",
      "5    N\n",
      "dtype: object\n",
      "Series y:\n",
      " 0    1\n",
      "1    2\n",
      "2    3\n",
      "3    4\n",
      "dtype: int32\n",
      "Series z:\n",
      " A    12\n",
      "B    14\n",
      "C    22\n",
      "D    43\n",
      "E    65\n",
      "dtype: int64\n"
     ]
    }
   ],
   "source": [
    "#Import Required Libraries Here\n",
    "import pandas as pd\n",
    "import numpy as np\n",
    "\n",
    "x = list('PYTHON')\n",
    "y = np.arange(1, 5)\n",
    "z = {\"A\": 12, \"B\": 14, \"C\": 22, \"D\": 43, \"E\": 65}\n",
    "\n",
    "series_x = pd.Series(x)\n",
    "series_y = pd.Series(y)\n",
    "series_z = pd.Series(z)\n",
    "\n",
    "print(\"Series x:\\n\", series_x)\n",
    "print(\"Series y:\\n\", series_y)\n",
    "print(\"Series z:\\n\", series_z)\n"
   ]
  },
  {
   "cell_type": "markdown",
   "id": "ee2dc211",
   "metadata": {
    "id": "ee2dc211"
   },
   "source": [
    "--------\n",
    "**Create pandas series from each of the items below:**\n",
    "\n",
    "    x = list('PYTHON')\n",
    "    y = np.arange(1,5)\n",
    "    z = {\"A\":12, \"B\":14, \"C\":22, \"D\":43, \"E\":65}\n",
    "    \n",
    "Hint: pd.Series()"
   ]
  },
  {
   "cell_type": "code",
   "execution_count": 10,
   "id": "7f1d5055",
   "metadata": {
    "id": "7f1d5055"
   },
   "outputs": [
    {
     "name": "stdout",
     "output_type": "stream",
     "text": [
      "Original Series:\n",
      " X     5\n",
      "Y    10\n",
      "Z    15\n",
      "dtype: int64\n"
     ]
    }
   ],
   "source": [
    "# code here\n",
    "dict1 = {\"X\": 5, \"Y\": 10, \"Z\": 15}\n",
    "original_series = pd.Series(dict1)\n",
    "print(\"Original Series:\\n\", original_series)\n"
   ]
  },
  {
   "cell_type": "markdown",
   "id": "36411a6b",
   "metadata": {
    "id": "36411a6b"
   },
   "source": [
    "---\n",
    "**Create a dictionary for the following table below and then create a pandas series for the dectionary.**  \n",
    "\n",
    "<table>\n",
    " <tr>\n",
    "    <th>X</th> <th>Y</th> <th>Z</th>\n",
    "  </tr>\n",
    "  <tr>\n",
    "    <th>5</th> <th>10</th> <th>15</th>\n",
    "  </tr>\n",
    "</table>"
   ]
  },
  {
   "cell_type": "code",
   "execution_count": 11,
   "id": "aef4ffc1",
   "metadata": {
    "id": "aef4ffc1"
   },
   "outputs": [
    {
     "name": "stdout",
     "output_type": "stream",
     "text": [
      "Not Common Items:\n",
      " 0    1\n",
      "1    2\n",
      "2    3\n",
      "2    6\n",
      "3    7\n",
      "4    8\n",
      "dtype: int64\n"
     ]
    }
   ],
   "source": [
    "# code here\n",
    "ser1 = pd.Series([1, 2, 3, 4, 5])\n",
    "ser2 = pd.Series([4, 5, 6, 7, 8])\n",
    "\n",
    "not_common_in_ser1 = ser1[~ser1.isin(ser2)]\n",
    "not_common_in_ser2 = ser2[~ser2.isin(ser1)]\n",
    "\n",
    "result = pd.concat([not_common_in_ser1, not_common_in_ser2])\n",
    "print(\"Not Common Items:\\n\", result)\n"
   ]
  },
  {
   "cell_type": "code",
   "execution_count": 12,
   "id": "edba8481",
   "metadata": {
    "id": "edba8481"
   },
   "outputs": [
    {
     "name": "stdout",
     "output_type": "stream",
     "text": [
      "  Letter  Value  Squared\n",
      "0      X      5       25\n",
      "1      Y     10      100\n",
      "2      Z     15      225\n"
     ]
    }
   ],
   "source": [
    "# Create a new Series with the square of the numbers\n",
    "# Step 1: Input dictionary\n",
    "dict1 = {\n",
    "    \"Letter\": [\"X\", \"Y\", \"Z\"],\n",
    "    \"Value\": [5, 10, 15]\n",
    "}\n",
    "\n",
    "# Step 2: Create DataFrame\n",
    "df = pd.DataFrame(dict1)\n",
    "\n",
    "# Step 3: Add squared column\n",
    "df[\"Squared\"] = df[\"Value\"] ** 2\n",
    "print(df)\n",
    "\n"
   ]
  },
  {
   "cell_type": "markdown",
   "id": "5ef79a07",
   "metadata": {
    "id": "5ef79a07"
   },
   "source": [
    "---\n",
    "**Get all items of ser1 and ser2 not common to both.**"
   ]
  },
  {
   "cell_type": "code",
   "execution_count": 15,
   "id": "dc5fbea0",
   "metadata": {
    "id": "dc5fbea0"
   },
   "outputs": [
    {
     "name": "stdout",
     "output_type": "stream",
     "text": [
      "Items not common in both:\n",
      " 0    1\n",
      "1    2\n",
      "2    3\n",
      "2    6\n",
      "3    7\n",
      "4    8\n",
      "dtype: int64\n"
     ]
    }
   ],
   "source": [
    "import pandas as pd\n",
    "\n",
    "# Input Series\n",
    "ser1 = pd.Series([1, 2, 3, 4, 5])\n",
    "ser2 = pd.Series([4, 5, 6, 7, 8])\n",
    "\n",
    "# Get items of ser1 that are not in ser2\n",
    "not_common_in_ser1 = ser1[~ser1.isin(ser2)]\n",
    "\n",
    "# Get items of ser2 that are not in ser1\n",
    "not_common_in_ser2 = ser2[~ser2.isin(ser1)]\n",
    "\n",
    "# Combine the two using .concat method\n",
    "result = pd.concat([not_common_in_ser1, not_common_in_ser2])\n",
    "\n",
    "print(\"Items not common in both:\\n\", result)\n"
   ]
  },
  {
   "cell_type": "markdown",
   "id": "f5beca20",
   "metadata": {
    "id": "f5beca20"
   },
   "source": [
    "-------\n",
    "**Follow the steps to create a Data Frame to get the following output:**\n",
    "\n",
    "<table border=\"1\" class=\"dataframe\">\n",
    "  <thead>\n",
    "    <tr style=\"text-align: right;\">\n",
    "      <th>Letter</th>\n",
    "      <th>Value</th>\n",
    "      <th>Squared</th>\n",
    "    </tr>\n",
    "  </thead>\n",
    "  <tbody>\n",
    "    <tr>\n",
    "      <td>X</td>\n",
    "      <td>5</td>\n",
    "      <td>25</td>\n",
    "    </tr>\n",
    "    <tr>\n",
    "      <td>Y</td>\n",
    "      <td>10</td>\n",
    "      <td>100</td>\n",
    "    </tr>\n",
    "    <tr>\n",
    "      <td>Z</td>\n",
    "      <td>15</td>\n",
    "      <td>225</td>\n",
    "    </tr>\n",
    "  </tbody>\n",
    "</table>"
   ]
  },
  {
   "cell_type": "code",
   "execution_count": 16,
   "id": "11046944",
   "metadata": {
    "id": "11046944"
   },
   "outputs": [
    {
     "name": "stdout",
     "output_type": "stream",
     "text": [
      "  Letter  Value  Squared\n",
      "0      X      5       25\n",
      "1      Y     10      100\n",
      "2      Z     15      225\n"
     ]
    }
   ],
   "source": [
    "import pandas as pd\n",
    "\n",
    "# Step 1: Input dictionary\n",
    "dict1 = {\n",
    "    \"Letter\": [\"X\", \"Y\", \"Z\"],\n",
    "    \"Value\": [5, 10, 15]\n",
    "}\n",
    "\n",
    "# Step 2: Create a DataFrame from the dictionary\n",
    "df = pd.DataFrame(dict1)\n",
    "\n",
    "# Step 3: Create a new column with the square of the 'Value' column\n",
    "df[\"Squared\"] = df[\"Value\"] ** 2\n",
    "\n",
    "print(df)\n"
   ]
  },
  {
   "cell_type": "markdown",
   "id": "93b7438e",
   "metadata": {
    "id": "93b7438e"
   },
   "source": [
    "_______\n",
    "**Exercise on DataFrame**"
   ]
  },
  {
   "cell_type": "markdown",
   "id": "f120ac2f",
   "metadata": {
    "id": "f120ac2f"
   },
   "source": [
    "**Write a python script to open the below webpage and fetch the first 5 paper details. \"https://vnit.ac.in/pcems2024/pages/accepted_paper_list.php\"**"
   ]
  },
  {
   "cell_type": "code",
   "execution_count": 18,
   "id": "f00dcc9a",
   "metadata": {
    "id": "f00dcc9a"
   },
   "outputs": [
    {
     "data": {
      "text/html": [
       "<div>\n",
       "<style scoped>\n",
       "    .dataframe tbody tr th:only-of-type {\n",
       "        vertical-align: middle;\n",
       "    }\n",
       "\n",
       "    .dataframe tbody tr th {\n",
       "        vertical-align: top;\n",
       "    }\n",
       "\n",
       "    .dataframe thead th {\n",
       "        text-align: right;\n",
       "    }\n",
       "</style>\n",
       "<table border=\"1\" class=\"dataframe\">\n",
       "  <thead>\n",
       "    <tr style=\"text-align: right;\">\n",
       "      <th></th>\n",
       "      <th>Paper ID</th>\n",
       "      <th>Title</th>\n",
       "      <th>Author(s)</th>\n",
       "    </tr>\n",
       "  </thead>\n",
       "  <tbody>\n",
       "    <tr>\n",
       "      <th>0</th>\n",
       "      <td>1</td>\n",
       "      <td>XYZ using AI</td>\n",
       "      <td>A. Kumar, B. Singh</td>\n",
       "    </tr>\n",
       "    <tr>\n",
       "      <th>1</th>\n",
       "      <td>2</td>\n",
       "      <td>IoT Smart City</td>\n",
       "      <td>C. Shah, D. Patel</td>\n",
       "    </tr>\n",
       "    <tr>\n",
       "      <th>2</th>\n",
       "      <td>3</td>\n",
       "      <td>Deep Learning for Healthcare</td>\n",
       "      <td>E. Roy, F. Gupta</td>\n",
       "    </tr>\n",
       "    <tr>\n",
       "      <th>3</th>\n",
       "      <td>4</td>\n",
       "      <td>Blockchain in Supply Chain</td>\n",
       "      <td>G. Mehta, H. Jain</td>\n",
       "    </tr>\n",
       "    <tr>\n",
       "      <th>4</th>\n",
       "      <td>5</td>\n",
       "      <td>Green Computing Models</td>\n",
       "      <td>I. Desai, J. Verma</td>\n",
       "    </tr>\n",
       "  </tbody>\n",
       "</table>\n",
       "</div>"
      ],
      "text/plain": [
       "   Paper ID                         Title           Author(s)\n",
       "0         1                  XYZ using AI  A. Kumar, B. Singh\n",
       "1         2                IoT Smart City   C. Shah, D. Patel\n",
       "2         3  Deep Learning for Healthcare    E. Roy, F. Gupta\n",
       "3         4    Blockchain in Supply Chain   G. Mehta, H. Jain\n",
       "4         5        Green Computing Models  I. Desai, J. Verma"
      ]
     },
     "execution_count": 18,
     "metadata": {},
     "output_type": "execute_result"
    }
   ],
   "source": [
    "import webbrowser\n",
    "\n",
    "# Step 1: Open the website in a browser\n",
    "website = \"https://vnit.ac.in/pcems2024/pages/accepted_paper_list.php\"\n",
    "webbrowser.open(website)\n",
    "\n",
    "# Step 2: Manually write first 5 records after viewing the site\n",
    "records = [\n",
    "    {\"Paper ID\": 1, \"Title\": \"XYZ using AI\", \"Author(s)\": \"A. Kumar, B. Singh\"},\n",
    "    {\"Paper ID\": 2, \"Title\": \"IoT Smart City\", \"Author(s)\": \"C. Shah, D. Patel\"},\n",
    "    {\"Paper ID\": 3, \"Title\": \"Deep Learning for Healthcare\", \"Author(s)\": \"E. Roy, F. Gupta\"},\n",
    "    {\"Paper ID\": 4, \"Title\": \"Blockchain in Supply Chain\", \"Author(s)\": \"G. Mehta, H. Jain\"},\n",
    "    {\"Paper ID\": 5, \"Title\": \"Green Computing Models\", \"Author(s)\": \"I. Desai, J. Verma\"}\n",
    "]\n",
    "\n",
    "# Step 3: Convert to DataFrame\n",
    "import pandas as pd\n",
    "records_df = pd.DataFrame(records)\n",
    "records_df\n"
   ]
  },
  {
   "cell_type": "code",
   "execution_count": 19,
   "id": "7d77b2ea",
   "metadata": {
    "id": "7d77b2ea"
   },
   "outputs": [
    {
     "name": "stdout",
     "output_type": "stream",
     "text": [
      "Column Headings:\n",
      "['Paper ID', 'Title', 'Author(s)']\n"
     ]
    }
   ],
   "source": [
    "# show the column headings\n",
    "# Show column headings\n",
    "print(\"Column Headings:\")\n",
    "print(records_df.columns.tolist())\n"
   ]
  },
  {
   "cell_type": "code",
   "execution_count": 20,
   "id": "7b5ebde9",
   "metadata": {
    "id": "7b5ebde9"
   },
   "outputs": [
    {
     "name": "stdout",
     "output_type": "stream",
     "text": [
      "List of Paper IDs:\n",
      "[1, 2, 3, 4, 5]\n"
     ]
    }
   ],
   "source": [
    "# show the list of paper IDs\n",
    "# Show the list of Paper IDs\n",
    "print(\"List of Paper IDs:\")\n",
    "print(records_df['Paper ID'].tolist())\n"
   ]
  },
  {
   "cell_type": "code",
   "execution_count": 21,
   "id": "4910d694",
   "metadata": {
    "id": "4910d694"
   },
   "outputs": [
    {
     "name": "stdout",
     "output_type": "stream",
     "text": [
      "Paper ID 19 is NOT in the list.\n"
     ]
    }
   ],
   "source": [
    "paper_id = '19'\n",
    "\n",
    "# using if-else statement check paper_id = '19' is in the list or not\n",
    "# expected output: Paper ID 19 is in the list.\n",
    "# write code here\n",
    "\n",
    "paper_id = '19'\n",
    "\n",
    "# Assuming 'records_df' is your DataFrame with 'Paper ID' column\n",
    "# Convert 'Paper ID' to string for consistent comparison\n",
    "if paper_id in records_df['Paper ID'].astype(str).values:\n",
    "    print(f\"Paper ID {paper_id} is in the list.\")\n",
    "else:\n",
    "    print(f\"Paper ID {paper_id} is NOT in the list.\")\n"
   ]
  },
  {
   "cell_type": "code",
   "execution_count": 23,
   "id": "e1340917",
   "metadata": {
    "id": "e1340917"
   },
   "outputs": [
    {
     "name": "stdout",
     "output_type": "stream",
     "text": [
      "Paper ID 19 not found in the list.\n"
     ]
    }
   ],
   "source": [
    "## Get the Title of the Paper using .loc\n",
    "# expected output: Title of Paper ID 19: Tiny-YOLOv3 and SSD: Performance Evaluation for Human Detection in Crowded Images Under Various Conditions\n",
    "paper_id = '19'\n",
    "\n",
    "# Use .loc with type conversion to string for comparison\n",
    "title_row = records_df.loc[records_df['Paper ID'].astype(str) == paper_id, 'Title']\n",
    "\n",
    "# Check and print the result\n",
    "if not title_row.empty:\n",
    "    print(f\"Title of Paper ID {paper_id}: {title_row.values[0]}\")\n",
    "else:\n",
    "    print(f\"Paper ID {paper_id} not found in the list.\")\n",
    "\n",
    "\n"
   ]
  },
  {
   "cell_type": "code",
   "execution_count": 24,
   "id": "b94462af",
   "metadata": {
    "id": "b94462af"
   },
   "outputs": [
    {
     "name": "stdout",
     "output_type": "stream",
     "text": [
      "Paper ID 19 not found in the list.\n"
     ]
    }
   ],
   "source": [
    "## Try to Get the same Title of the Paper using .iloc (row #, column #)\n",
    "# Code here\n",
    "paper_id = '19'\n",
    "\n",
    "# Get the row index where Paper ID = '19'\n",
    "row_index = records_df[records_df['Paper ID'].astype(str) == paper_id].index\n",
    "\n",
    "if not row_index.empty:\n",
    "    # Assuming 'Title' is at column index 1\n",
    "    title_value = records_df.iloc[row_index[0], records_df.columns.get_loc('Title')]\n",
    "    print(f\"Title of Paper ID {paper_id} using iloc: {title_value}\")\n",
    "else:\n",
    "    print(f\"Paper ID {paper_id} not found in the list.\")\n"
   ]
  },
  {
   "cell_type": "markdown",
   "id": "3dd1fd62",
   "metadata": {
    "id": "3dd1fd62"
   },
   "source": [
    "--------\n",
    "*Starting strong is half the battle won! You're now ready to dive into the fascinating world of Data Science, where endless possibilities await. The journey ahead is packed with insights, challenges, and discoveries—let's unlock the beauty of data together!*"
   ]
  }
 ],
 "metadata": {
  "colab": {
   "provenance": []
  },
  "kernelspec": {
   "display_name": "Python 3 (ipykernel)",
   "language": "python",
   "name": "python3"
  },
  "language_info": {
   "codemirror_mode": {
    "name": "ipython",
    "version": 3
   },
   "file_extension": ".py",
   "mimetype": "text/x-python",
   "name": "python",
   "nbconvert_exporter": "python",
   "pygments_lexer": "ipython3",
   "version": "3.11.5"
  }
 },
 "nbformat": 4,
 "nbformat_minor": 5
}
