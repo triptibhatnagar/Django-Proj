{
 "cells": [
  {
   "cell_type": "markdown",
   "id": "d6c18302",
   "metadata": {},
   "source": [
    "#  Assignment -01 "
   ]
  },
  {
   "cell_type": "markdown",
   "id": "24cb8664",
   "metadata": {},
   "source": [
    "# # Problem Statement: \n",
    "Evaluate the dataset containing the GDPs of different countries to:\n",
    "\n",
    "Find and print the name of the country with the highest GDP\n",
    "\n",
    "Find and print the name of the country with the lowest GDP\n",
    "\n",
    "Print out text and input values iteratively\n",
    "\n",
    "Print out the entire list of the countries with their GDPs\n",
    "\n",
    "Print the highest GDP value, \n",
    "\n",
    "lowest GDP value, \n",
    "\n",
    "mean GDP value, \n",
    "\n",
    "standardized GDP value, \n",
    "\n",
    "and the sum of all the GDPs"
   ]
  },
  {
   "cell_type": "markdown",
   "id": "56f7d880",
   "metadata": {},
   "source": [
    "#\n",
    "Creating Array for data "
   ]
  },
  {
   "cell_type": "code",
   "execution_count": 5,
   "id": "1ef6afd2",
   "metadata": {},
   "outputs": [],
   "source": [
    "import numpy as np \n",
    "c = np.array(['Algeria','Angola','Argentina','Australia',\n",
    "              'Austria','Bahamas','Bangladesh','Belarus','Belgium','Bhutan','Brazil','Bulgaria','Cambodia'\n",
    "              ,'Cameroon','Chile','China','Colombia','Cyprus',\n",
    "              'Denmark','El Salvador','Estonia','Ethiopia','Fiji',\n",
    "              'Finland','France','Georgia','Ghana','Grenada','Guinea',\n",
    "              'Haiti','Honduras','Hungary','India','Indonesia','Ireland','Italy','Japan','Kenya', 'South Korea','Liberia','Malaysia','Mexico', 'Morocco','Nepal','New Zealand','Norway','Pakistan', 'Peru','Qatar','Russia','Singapore','South Africa','Spain','Sweden','Switzerland','Thailand', 'United Arab Emirates','United Kingdom','United States','Uruguay','Venezuela','Vietnam',\n",
    "              'Zimbabwe'])\n",
    "gdp = np.array([2255.225482,629.9553062,11601.63022,25306.82494,27266.40335,19466.99052,588.3691778,2890.345675,24733.62696,\n",
    "1445.760002,4803.398244,2618.876037,590.4521124,665.7982328,7122.938458,2639.54156,3362.4656,15378.16704,30860.12808,2579.115607,\n",
    "6525.541272,229.6769525,2242.689259,27570.4852,23016.84778,1334.646773,402.6953275,6047.200797,394.1156638,385.5793827,1414.072488,5745.981529,\n",
    "837.7464011,1206.991065,27715.52837,18937.24998,39578.07441,478.2194906,16684.21278,279.2204061,5345.213415,6288.25324,1908.304416,\n",
    "274.8728621,14646.42094,40034.85063,672.1547506,3359.517402,36152.66676,3054.727742,33529.83052,3825.093781,15428.32098,33630.24604,\n",
    "39170.41371,2699.123242,21058.43643,28272.40661,37691.02733,9581.05659,5671.912202,757.4009286,347.7456605])"
   ]
  },
  {
   "cell_type": "code",
   "execution_count": 6,
   "id": "50b9e9fc",
   "metadata": {},
   "outputs": [
    {
     "name": "stdout",
     "output_type": "stream",
     "text": [
      "Country with the HIGHEST GDP: Norway → 40034.85063\n",
      "Country with the LOWEST GDP : Ethiopia → 229.6769525\n"
     ]
    }
   ],
   "source": [
    "# Step 1: Find highest and lowest GDP\n",
    "max_index = np.argmax(gdp)\n",
    "min_index = np.argmin(gdp)\n",
    "\n",
    "print(\"Country with the HIGHEST GDP:\", c[max_index], \"→\", gdp[max_index])\n",
    "print(\"Country with the LOWEST GDP :\", c[min_index], \"→\", gdp[min_index])\n"
   ]
  },
  {
   "cell_type": "code",
   "execution_count": null,
   "id": "30f68934",
   "metadata": {},
   "outputs": [
    {
     "name": "stdout",
     "output_type": "stream",
     "text": [
      "Iterative print (Country → GDP):\n",
      "\n",
      "Algeria    → 2255.23\n",
      "Angola     → 629.96\n",
      "Argentina  → 11601.63\n",
      "Australia  → 25306.82\n",
      "Austria    → 27266.40\n",
      "Bahamas    → 19466.99\n",
      "Bangladesh → 588.37\n",
      "Belarus    → 2890.35\n",
      "Belgium    → 24733.63\n",
      "Bhutan     → 1445.76\n",
      "Brazil     → 4803.40\n",
      "Bulgaria   → 2618.88\n",
      "Cambodia   → 590.45\n",
      "Cameroon   → 665.80\n",
      "Chile      → 7122.94\n",
      "China      → 2639.54\n",
      "Colombia   → 3362.47\n",
      "Cyprus     → 15378.17\n",
      "Denmark    → 30860.13\n",
      "El Salvador → 2579.12\n",
      "Estonia    → 6525.54\n",
      "Ethiopia   → 229.68\n",
      "Fiji       → 2242.69\n",
      "Finland    → 27570.49\n",
      "France     → 23016.85\n",
      "Georgia    → 1334.65\n",
      "Ghana      → 402.70\n",
      "Grenada    → 6047.20\n",
      "Guinea     → 394.12\n",
      "Haiti      → 385.58\n",
      "Honduras   → 1414.07\n",
      "Hungary    → 5745.98\n",
      "India      → 837.75\n",
      "Indonesia  → 1206.99\n",
      "Ireland    → 27715.53\n",
      "Italy      → 18937.25\n",
      "Japan      → 39578.07\n",
      "Kenya      → 478.22\n",
      "South Korea → 16684.21\n",
      "Liberia    → 279.22\n",
      "Malaysia   → 5345.21\n",
      "Mexico     → 6288.25\n",
      "Morocco    → 1908.30\n",
      "Nepal      → 274.87\n",
      "New Zealand → 14646.42\n",
      "Norway     → 40034.85\n",
      "Pakistan   → 672.15\n",
      "Peru       → 3359.52\n",
      "Qatar      → 36152.67\n",
      "Russia     → 3054.73\n",
      "Singapore  → 33529.83\n",
      "South Africa → 3825.09\n",
      "Spain      → 15428.32\n",
      "Sweden     → 33630.25\n",
      "Switzerland → 39170.41\n",
      "Thailand   → 2699.12\n",
      "United Arab Emirates → 21058.44\n",
      "United Kingdom → 28272.41\n",
      "United States → 37691.03\n",
      "Uruguay    → 9581.06\n",
      "Venezuela  → 5671.91\n",
      "Vietnam    → 757.40\n",
      "Zimbabwe   → 347.75\n",
      "\n"
     ]
    }
   ],
   "source": [
    "# Step 2: Print out text and input values iteratively\n",
    "print(\"Iterative print (Country → GDP):\\n\")\n",
    "# zip combines two arrays (or lists) element by element.\n",
    "for country, value in zip(c, gdp):\n",
    "    print(f\"{country:20} → {value:.2f}\")\n",
    "    # {country:20} → prints country left-aligned in a 20-character wide field.\n",
    "\n",
    "print()"
   ]
  },
  {
   "cell_type": "code",
   "execution_count": null,
   "id": "85b5e66e",
   "metadata": {},
   "outputs": [
    {
     "name": "stdout",
     "output_type": "stream",
     "text": [
      "Full list of countries with their GDPs:\n",
      "\n",
      " 1. Algeria              → 2255.23\n",
      " 2. Angola               → 629.96\n",
      " 3. Argentina            → 11601.63\n",
      " 4. Australia            → 25306.82\n",
      " 5. Austria              → 27266.40\n",
      " 6. Bahamas              → 19466.99\n",
      " 7. Bangladesh           → 588.37\n",
      " 8. Belarus              → 2890.35\n",
      " 9. Belgium              → 24733.63\n",
      "10. Bhutan               → 1445.76\n",
      "11. Brazil               → 4803.40\n",
      "12. Bulgaria             → 2618.88\n",
      "13. Cambodia             → 590.45\n",
      "14. Cameroon             → 665.80\n",
      "15. Chile                → 7122.94\n",
      "16. China                → 2639.54\n",
      "17. Colombia             → 3362.47\n",
      "18. Cyprus               → 15378.17\n",
      "19. Denmark              → 30860.13\n",
      "20. El Salvador          → 2579.12\n",
      "21. Estonia              → 6525.54\n",
      "22. Ethiopia             → 229.68\n",
      "23. Fiji                 → 2242.69\n",
      "24. Finland              → 27570.49\n",
      "25. France               → 23016.85\n",
      "26. Georgia              → 1334.65\n",
      "27. Ghana                → 402.70\n",
      "28. Grenada              → 6047.20\n",
      "29. Guinea               → 394.12\n",
      "30. Haiti                → 385.58\n",
      "31. Honduras             → 1414.07\n",
      "32. Hungary              → 5745.98\n",
      "33. India                → 837.75\n",
      "34. Indonesia            → 1206.99\n",
      "35. Ireland              → 27715.53\n",
      "36. Italy                → 18937.25\n",
      "37. Japan                → 39578.07\n",
      "38. Kenya                → 478.22\n",
      "39. South Korea          → 16684.21\n",
      "40. Liberia              → 279.22\n",
      "41. Malaysia             → 5345.21\n",
      "42. Mexico               → 6288.25\n",
      "43. Morocco              → 1908.30\n",
      "44. Nepal                → 274.87\n",
      "45. New Zealand          → 14646.42\n",
      "46. Norway               → 40034.85\n",
      "47. Pakistan             → 672.15\n",
      "48. Peru                 → 3359.52\n",
      "49. Qatar                → 36152.67\n",
      "50. Russia               → 3054.73\n",
      "51. Singapore            → 33529.83\n",
      "52. South Africa         → 3825.09\n",
      "53. Spain                → 15428.32\n",
      "54. Sweden               → 33630.25\n",
      "55. Switzerland          → 39170.41\n",
      "56. Thailand             → 2699.12\n",
      "57. United Arab Emirates → 21058.44\n",
      "58. United Kingdom       → 28272.41\n",
      "59. United States        → 37691.03\n",
      "60. Uruguay              → 9581.06\n",
      "61. Venezuela            → 5671.91\n",
      "62. Vietnam              → 757.40\n",
      "63. Zimbabwe             → 347.75\n",
      "\n"
     ]
    }
   ],
   "source": [
    "# Step 3: Print the entire list\n",
    "print(\"Full list of countries with their GDPs:\\n\")\n",
    "for i in range(len(c)):\n",
    "    print(f\"{i+1:2d}. {c[i]:20} → {gdp[i]:.2f}\")\n",
    "    # {i+1:2d} → prints the serial number (index + 1) as an integer (d) in 2-character width.\n",
    "\n",
    "print()"
   ]
  },
  {
   "cell_type": "code",
   "execution_count": null,
   "id": "93f6e469",
   "metadata": {},
   "outputs": [],
   "source": [
    "# Step 4: Statistics\n",
    "highest_gdp = gdp[max_index]\n",
    "lowest_gdp = gdp[min_index]\n",
    "mean_gdp = np.mean(gdp)\n",
    "standardized_gdp = (gdp - mean_gdp) / np.std(gdp)\n",
    "sum_gdp = np.sum(gdp)   "
   ]
  },
  {
   "cell_type": "code",
   "execution_count": 10,
   "id": "e16820dc",
   "metadata": {},
   "outputs": [
    {
     "name": "stdout",
     "output_type": "stream",
     "text": [
      "--- GDP STATISTICS ---\n",
      "Highest GDP value : 40034.85063\n",
      "Lowest GDP value  : 229.6769525\n",
      "Mean GDP value    : 11289.409271639683\n",
      "Sum of all GDPs   : 711232.7841133\n",
      "\n",
      "Standardized GDP values (first 10 shown):\n",
      "[-0.70890655 -0.83644045  0.02449978  1.09993753  1.25370438  0.6416895\n",
      " -0.83970368 -0.65906908  1.05495905 -0.77242478]\n"
     ]
    }
   ],
   "source": [
    "print(\"--- GDP STATISTICS ---\")\n",
    "print(\"Highest GDP value :\", highest_gdp)\n",
    "print(\"Lowest GDP value  :\", lowest_gdp)\n",
    "print(\"Mean GDP value    :\", mean_gdp)\n",
    "print(\"Sum of all GDPs   :\", sum_gdp)\n",
    "print(\"\\nStandardized GDP values (first 10 shown):\")\n",
    "print(standardized_gdp[:10])"
   ]
  }
 ],
 "metadata": {
  "kernelspec": {
   "display_name": ".venv",
   "language": "python",
   "name": "python3"
  },
  "language_info": {
   "codemirror_mode": {
    "name": "ipython",
    "version": 3
   },
   "file_extension": ".py",
   "mimetype": "text/x-python",
   "name": "python",
   "nbconvert_exporter": "python",
   "pygments_lexer": "ipython3",
   "version": "3.12.4"
  }
 },
 "nbformat": 4,
 "nbformat_minor": 5
}
