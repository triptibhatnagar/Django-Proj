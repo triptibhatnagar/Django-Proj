{
 "cells": [
  {
   "cell_type": "markdown",
   "id": "1c112b9e",
   "metadata": {},
   "source": [
    "# FastAPI Security – 10 Examples with Detailed Explanations"
   ]
  },
  {
   "cell_type": "markdown",
   "id": "45997368",
   "metadata": {},
   "source": [
    "\n",
    "This notebook presents 10 FastAPI examples covering multiple security levels with proper code and explanations.\n",
    "\n",
    "### Security Topics Covered:\n",
    "1. Public Route (No Auth)  \n",
    "2. HTTP Basic Authentication  \n",
    "3. OAuth2 Password Flow  \n",
    "4. JWT Auth (Login + Protected Route)  \n",
    "5. Role-Based Access (Admin/User)  \n",
    "6. API Key in Header  \n",
    "7. API Key in Query Param  \n",
    "8. CORS Settings  \n",
    "9. HTTPS Enforcement Tips  \n",
    "10. Rate Limiting using `slowapi`\n"
   ]
  },
  {
   "cell_type": "markdown",
   "id": "ff52de7e",
   "metadata": {},
   "source": [
    "## 1. Public Route (No Authentication Required)"
   ]
  },
  {
   "cell_type": "code",
   "execution_count": null,
   "id": "b71a321e",
   "metadata": {},
   "outputs": [],
   "source": [
    "from fastapi import FastAPI\n",
    "\n",
    "app = FastAPI()\n",
    "\n",
    "@app.get(\"/public\")\n",
    "def public_endpoint():\n",
    "    return {\"message\": \"This is a public API\"}\n"
   ]
  },
  {
   "cell_type": "markdown",
   "id": "3edfbfd2",
   "metadata": {},
   "source": [
    "✅ Anyone can access this route. No authentication required."
   ]
  },
  {
   "cell_type": "markdown",
   "id": "d458cd28",
   "metadata": {},
   "source": [
    "## 2. HTTP Basic Authentication"
   ]
  },
  {
   "cell_type": "code",
   "execution_count": null,
   "id": "e8736d72",
   "metadata": {},
   "outputs": [],
   "source": [
    "from fastapi import Depends\n",
    "from fastapi.security import HTTPBasic, HTTPBasicCredentials\n",
    "import secrets\n",
    "\n",
    "security = HTTPBasic()\n",
    "\n",
    "@app.get(\"/basic-auth\")\n",
    "def read_current_user(credentials: HTTPBasicCredentials = Depends(security)):\n",
    "    correct_username = secrets.compare_digest(credentials.username, \"admin\")\n",
    "    correct_password = secrets.compare_digest(credentials.password, \"admin123\")\n",
    "    if not (correct_username and correct_password):\n",
    "        raise HTTPException(status_code=401, detail=\"Unauthorized\")\n",
    "    return {\"username\": credentials.username}\n"
   ]
  },
  {
   "cell_type": "markdown",
   "id": "4537212f",
   "metadata": {},
   "source": [
    "## 3. OAuth2 Password Flow (Insecure Demo Only)"
   ]
  },
  {
   "cell_type": "code",
   "execution_count": null,
   "id": "6ec4c93b",
   "metadata": {},
   "outputs": [],
   "source": [
    "from fastapi.security import OAuth2PasswordBearer\n",
    "\n",
    "oauth2_scheme = OAuth2PasswordBearer(tokenUrl=\"token\")\n",
    "\n",
    "@app.get(\"/oauth-protected\")\n",
    "def oauth_route(token: str = Depends(oauth2_scheme)):\n",
    "    return {\"token\": token}\n"
   ]
  },
  {
   "cell_type": "markdown",
   "id": "d7ff6c90",
   "metadata": {},
   "source": [
    "## 4. JWT Authentication (Login + Verify Token)"
   ]
  },
  {
   "cell_type": "code",
   "execution_count": null,
   "id": "f9a981fb",
   "metadata": {},
   "outputs": [],
   "source": [
    "import jwt\n",
    "from datetime import datetime, timedelta\n",
    "from fastapi import HTTPException, status\n",
    "\n",
    "SECRET_KEY = \"mysecret\"\n",
    "ALGORITHM = \"HS256\"\n",
    "\n",
    "def create_jwt_token(data: dict):\n",
    "    to_encode = data.copy()\n",
    "    to_encode.update({\"exp\": datetime.utcnow() + timedelta(minutes=30)})\n",
    "    return jwt.encode(to_encode, SECRET_KEY, algorithm=ALGORITHM)\n",
    "\n",
    "@app.post(\"/login\")\n",
    "def login(credentials: HTTPBasicCredentials = Depends(security)):\n",
    "    if credentials.username == \"admin\" and credentials.password == \"admin123\":\n",
    "        token = create_jwt_token({\"sub\": credentials.username})\n",
    "        return {\"access_token\": token}\n",
    "    raise HTTPException(status_code=401, detail=\"Invalid credentials\")\n",
    "\n",
    "@app.get(\"/protected-jwt\")\n",
    "def protected_jwt(token: str = Depends(oauth2_scheme)):\n",
    "    try:\n",
    "        payload = jwt.decode(token, SECRET_KEY, algorithms=[ALGORITHM])\n",
    "        return {\"user\": payload.get(\"sub\")}\n",
    "    except:\n",
    "        raise HTTPException(status_code=403, detail=\"Token is invalid or expired\")\n"
   ]
  },
  {
   "cell_type": "markdown",
   "id": "57aca886",
   "metadata": {},
   "source": [
    "## 5. Role-Based Access Control (RBAC)"
   ]
  },
  {
   "cell_type": "code",
   "execution_count": null,
   "id": "6d0b3613",
   "metadata": {},
   "outputs": [],
   "source": [
    "roles_db = {\n",
    "    \"admin\": \"admin\",\n",
    "    \"john\": \"user\"\n",
    "}\n",
    "\n",
    "@app.get(\"/admin-only\")\n",
    "def admin_route(token: str = Depends(oauth2_scheme)):\n",
    "    payload = jwt.decode(token, SECRET_KEY, algorithms=[ALGORITHM])\n",
    "    user = payload.get(\"sub\")\n",
    "    if roles_db.get(user) != \"admin\":\n",
    "        raise HTTPException(status_code=403, detail=\"Admins only!\")\n",
    "    return {\"admin_access_granted\": user}\n"
   ]
  },
  {
   "cell_type": "markdown",
   "id": "19fcf2b9",
   "metadata": {},
   "source": [
    "## 6. API Key Authentication (Header Based)"
   ]
  },
  {
   "cell_type": "code",
   "execution_count": null,
   "id": "e0fa600d",
   "metadata": {},
   "outputs": [],
   "source": [
    "from fastapi import Header\n",
    "\n",
    "API_KEY = \"my-api-key\"\n",
    "\n",
    "@app.get(\"/api-header\")\n",
    "def check_key(x_api_key: str = Header(...)):\n",
    "    if x_api_key != API_KEY:\n",
    "        raise HTTPException(status_code=403, detail=\"Invalid API Key\")\n",
    "    return {\"access\": \"granted\"}\n"
   ]
  },
  {
   "cell_type": "markdown",
   "id": "14ba8966",
   "metadata": {},
   "source": [
    "## 7. API Key in Query Param"
   ]
  },
  {
   "cell_type": "code",
   "execution_count": null,
   "id": "b5723138",
   "metadata": {},
   "outputs": [],
   "source": [
    "@app.get(\"/api-query\")\n",
    "def check_key(api_key: str):\n",
    "    if api_key != API_KEY:\n",
    "        raise HTTPException(status_code=403, detail=\"Invalid API Key\")\n",
    "    return {\"access\": \"granted via query\"}\n"
   ]
  },
  {
   "cell_type": "markdown",
   "id": "66cd268c",
   "metadata": {},
   "source": [
    "## 8. Enable CORS"
   ]
  },
  {
   "cell_type": "code",
   "execution_count": null,
   "id": "5e4f0c12",
   "metadata": {},
   "outputs": [],
   "source": [
    "from fastapi.middleware.cors import CORSMiddleware\n",
    "\n",
    "app.add_middleware(\n",
    "    CORSMiddleware,\n",
    "    allow_origins=[\"*\"],  # Adjust for production\n",
    "    allow_credentials=True,\n",
    "    allow_methods=[\"*\"],\n",
    "    allow_headers=[\"*\"],\n",
    ")\n"
   ]
  },
  {
   "cell_type": "markdown",
   "id": "5604b6a3",
   "metadata": {},
   "source": [
    "## 9. Enforce HTTPS (Best Practices Only)"
   ]
  },
  {
   "cell_type": "markdown",
   "id": "eb7ef866",
   "metadata": {},
   "source": [
    "\n",
    "- Always deploy behind a reverse proxy (like Nginx) with HTTPS  \n",
    "- Set `Secure` cookies  \n",
    "- Redirect HTTP → HTTPS on deployment  \n",
    "- Use HSTS headers via middleware\n"
   ]
  },
  {
   "cell_type": "markdown",
   "id": "2ef4cf6d",
   "metadata": {},
   "source": [
    "## 10. Rate Limiting with `slowapi`"
   ]
  },
  {
   "cell_type": "code",
   "execution_count": null,
   "id": "b920a903",
   "metadata": {},
   "outputs": [],
   "source": [
    "# pip install slowapi\n",
    "\n",
    "from slowapi import Limiter\n",
    "from slowapi.util import get_remote_address\n",
    "from fastapi import Request\n",
    "from slowapi.errors import RateLimitExceeded\n",
    "from fastapi.responses import JSONResponse\n",
    "\n",
    "limiter = Limiter(key_func=get_remote_address)\n",
    "app.state.limiter = limiter\n",
    "\n",
    "@app.exception_handler(RateLimitExceeded)\n",
    "def rate_limit_handler(request: Request, exc: RateLimitExceeded):\n",
    "    return JSONResponse(status_code=429, content={\"detail\": \"Rate limit exceeded\"})\n",
    "\n",
    "@app.get(\"/limited\")\n",
    "@limiter.limit(\"3/minute\")\n",
    "def limited_route():\n",
    "    return {\"message\": \"You are within the limit\"}\n"
   ]
  }
 ],
 "metadata": {
  "language_info": {
   "name": "python"
  }
 },
 "nbformat": 4,
 "nbformat_minor": 5
}
