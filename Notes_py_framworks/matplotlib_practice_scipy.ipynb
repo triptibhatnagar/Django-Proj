{
 "cells": [
  {
   "cell_type": "markdown",
   "metadata": {},
   "source": [
    "# 📘 Student Practice Notebook: Matplotlib, SciPy, Seaborn"
   ]
  },
  {
   "cell_type": "code",
   "execution_count": null,
   "metadata": {},
   "outputs": [],
   "source": [
    "import matplotlib.pyplot as plt\n",
    "import numpy as np\n",
    "import seaborn as sns\n",
    "import pandas as pd\n",
    "from scipy.optimize import curve_fit\n",
    "from scipy.ndimage import gaussian_filter1d\n",
    "from scipy.integrate import quad"
   ]
  },
  {
   "cell_type": "markdown",
   "metadata": {},
   "source": [
    "## ✅ 1. Line Plot"
   ]
  },
  {
   "cell_type": "code",
   "execution_count": null,
   "metadata": {},
   "outputs": [],
   "source": [
    "x = np.linspace(0, 10, 100)\n",
    "y = np.sin(x)\n",
    "\n",
    "plt.plot(x, y)\n",
    "plt.title(\"Sine Wave\")\n",
    "plt.xlabel(\"X-axis\")\n",
    "plt.ylabel(\"Y-axis\")\n",
    "plt.grid(True)\n",
    "plt.show()"
   ]
  },
  {
   "cell_type": "markdown",
   "metadata": {},
   "source": [
    "## ✅ 2. Bar Chart: Student Marks"
   ]
  },
  {
   "cell_type": "code",
   "execution_count": null,
   "metadata": {},
   "outputs": [],
   "source": [
    "students = ['Amit', 'Riya', 'John', 'Sara']\n",
    "marks = [85, 92, 78, 88]\n",
    "\n",
    "plt.bar(students, marks, color='skyblue')\n",
    "plt.title(\"Student Marks\")\n",
    "plt.ylabel(\"Marks\")\n",
    "plt.ylim(0, 100)\n",
    "plt.show()"
   ]
  },
  {
   "cell_type": "markdown",
   "metadata": {},
   "source": [
    "## ✅ 3. Histogram"
   ]
  },
  {
   "cell_type": "code",
   "execution_count": null,
   "metadata": {},
   "outputs": [],
   "source": [
    "data = np.random.randn(1000)\n",
    "plt.hist(data, bins=30, color='green')\n",
    "plt.title(\"Histogram of Random Data\")\n",
    "plt.show()"
   ]
  },
  {
   "cell_type": "markdown",
   "metadata": {},
   "source": [
    "## ✅ 4. Scatter Plot"
   ]
  },
  {
   "cell_type": "code",
   "execution_count": null,
   "metadata": {},
   "outputs": [],
   "source": [
    "x = np.random.rand(50)\n",
    "y = 2 * x + np.random.normal(0, 0.1, 50)\n",
    "\n",
    "plt.scatter(x, y, color='red')\n",
    "plt.title(\"Scatter Plot Example\")\n",
    "plt.xlabel(\"X\")\n",
    "plt.ylabel(\"Y\")\n",
    "plt.show()"
   ]
  },
  {
   "cell_type": "markdown",
   "metadata": {},
   "source": [
    "## ✅ 5. Subplots"
   ]
  },
  {
   "cell_type": "code",
   "execution_count": null,
   "metadata": {},
   "outputs": [],
   "source": [
    "x = np.linspace(0, 10, 100)\n",
    "\n",
    "plt.subplot(2,2,1)\n",
    "plt.plot(x, np.sin(x))\n",
    "plt.title(\"sin(x)\")\n",
    "\n",
    "plt.subplot(2,2,2)\n",
    "plt.plot(x, np.cos(x))\n",
    "plt.title(\"cos(x)\")\n",
    "\n",
    "plt.subplot(2,2,3)\n",
    "plt.plot(x, np.tan(x))\n",
    "plt.title(\"tan(x)\")\n",
    "\n",
    "plt.subplot(2,2,4)\n",
    "plt.plot(x, np.exp(-x))\n",
    "plt.title(\"exp(-x)\")\n",
    "\n",
    "plt.tight_layout()\n",
    "plt.show()"
   ]
  },
  {
   "cell_type": "markdown",
   "metadata": {},
   "source": [
    "## ✅ 6. Pie Chart"
   ]
  },
  {
   "cell_type": "code",
   "execution_count": null,
   "metadata": {},
   "outputs": [],
   "source": [
    "labels = ['Study', 'Sleep', 'Exercise', 'Entertainment']\n",
    "hours = [6, 8, 2, 8]\n",
    "\n",
    "plt.pie(hours, labels=labels, autopct='%1.1f%%', startangle=90)\n",
    "plt.title(\"Daily Time Distribution\")\n",
    "plt.show()"
   ]
  },
  {
   "cell_type": "markdown",
   "metadata": {},
   "source": [
    "## ✅ 7. Heatmap + Correlation"
   ]
  },
  {
   "cell_type": "code",
   "execution_count": null,
   "metadata": {},
   "outputs": [],
   "source": [
    "df = pd.DataFrame({\n",
    "    'Math': np.random.randint(60, 100, 20),\n",
    "    'Science': np.random.randint(50, 95, 20),\n",
    "    'English': np.random.randint(55, 90, 20),\n",
    "    'History': np.random.randint(45, 85, 20),\n",
    "})\n",
    "\n",
    "correlation = df.corr()\n",
    "sns.heatmap(correlation, annot=True, cmap='YlGnBu')\n",
    "plt.title(\"Subject Correlation Heatmap\")\n",
    "plt.show()"
   ]
  },
  {
   "cell_type": "markdown",
   "metadata": {},
   "source": [
    "## ✅ 8. SciPy: Curve Fitting"
   ]
  },
  {
   "cell_type": "code",
   "execution_count": null,
   "metadata": {},
   "outputs": [],
   "source": [
    "def model_func(x, a, b):\n",
    "    return a * np.sin(b * x)\n",
    "\n",
    "x_data = np.linspace(0, 10, 100)\n",
    "y_data = 3 * np.sin(2 * x_data) + np.random.normal(0, 0.5, 100)\n",
    "\n",
    "popt, _ = curve_fit(model_func, x_data, y_data)\n",
    "fitted_y = model_func(x_data, *popt)\n",
    "\n",
    "plt.plot(x_data, y_data, label='Noisy Data')\n",
    "plt.plot(x_data, fitted_y, label='Fitted Curve', color='red')\n",
    "plt.legend()\n",
    "plt.title(\"Curve Fitting using SciPy\")\n",
    "plt.show()"
   ]
  },
  {
   "cell_type": "markdown",
   "metadata": {},
   "source": [
    "## ✅ 9. SciPy: Smoothing"
   ]
  },
  {
   "cell_type": "code",
   "execution_count": null,
   "metadata": {},
   "outputs": [],
   "source": [
    "x = np.linspace(0, 6*np.pi, 100)\n",
    "y = np.sin(x) + np.random.normal(0, 0.2, 100)\n",
    "\n",
    "smoothed_y = gaussian_filter1d(y, sigma=2)\n",
    "\n",
    "plt.plot(x, y, label='Original', alpha=0.6)\n",
    "plt.plot(x, smoothed_y, label='Smoothed', color='orange')\n",
    "plt.legend()\n",
    "plt.title(\"Gaussian Smoothing\")\n",
    "plt.show()"
   ]
  },
  {
   "cell_type": "markdown",
   "metadata": {},
   "source": [
    "## ✅ 10. SciPy: Integration"
   ]
  },
  {
   "cell_type": "code",
   "execution_count": null,
   "metadata": {},
   "outputs": [],
   "source": [
    "def f(x):\n",
    "    return x ** 2\n",
    "\n",
    "result, _ = quad(f, 0, 5)\n",
    "print(\"Integral of x^2 from 0 to 5 =\", result)"
   ]
  },
  {
   "cell_type": "markdown",
   "metadata": {},
   "source": [
    "## ✅ 11. Multiple Line Plot"
   ]
  },
  {
   "cell_type": "code",
   "execution_count": null,
   "metadata": {},
   "outputs": [],
   "source": [
    "x = np.linspace(0, 10, 100)\n",
    "plt.plot(x, np.sin(x), label='sin(x)')\n",
    "plt.plot(x, np.cos(x), label='cos(x)')\n",
    "plt.legend()\n",
    "plt.title(\"Multiple Line Plot\")\n",
    "plt.show()"
   ]
  },
  {
   "cell_type": "markdown",
   "metadata": {},
   "source": [
    "## ✅ 12. Area Plot"
   ]
  },
  {
   "cell_type": "code",
   "execution_count": null,
   "metadata": {},
   "outputs": [],
   "source": [
    "x = np.arange(1, 6)\n",
    "y = [1, 4, 6, 8, 10]\n",
    "plt.fill_between(x, y)\n",
    "plt.title(\"Area Plot\")\n",
    "plt.show()"
   ]
  },
  {
   "cell_type": "markdown",
   "metadata": {},
   "source": [
    "## ✅ 13. Horizontal Bar Chart"
   ]
  },
  {
   "cell_type": "code",
   "execution_count": null,
   "metadata": {},
   "outputs": [],
   "source": [
    "langs = ['Python', 'C++', 'Java', 'R']\n",
    "scores = [88, 70, 75, 60]\n",
    "plt.barh(langs, scores, color='orange')\n",
    "plt.title(\"Programming Language Popularity\")\n",
    "plt.show()"
   ]
  },
  {
   "cell_type": "markdown",
   "metadata": {},
   "source": [
    "## ✅ 14. Boxplot"
   ]
  },
  {
   "cell_type": "code",
   "execution_count": null,
   "metadata": {},
   "outputs": [],
   "source": [
    "data = [np.random.normal(0, std, 100) for std in range(1, 4)]\n",
    "plt.boxplot(data, vert=True)\n",
    "plt.title(\"Boxplot of Random Data\")\n",
    "plt.show()"
   ]
  },
  {
   "cell_type": "markdown",
   "metadata": {},
   "source": [
    "## ✅ 15. Violin Plot"
   ]
  },
  {
   "cell_type": "code",
   "execution_count": null,
   "metadata": {},
   "outputs": [],
   "source": [
    "sns.violinplot(data=data)\n",
    "plt.title(\"Violin Plot of Random Data\")\n",
    "plt.show()"
   ]
  },
  {
   "cell_type": "markdown",
   "metadata": {},
   "source": [
    "## ✅ 16. KDE Plot"
   ]
  },
  {
   "cell_type": "code",
   "execution_count": null,
   "metadata": {},
   "outputs": [],
   "source": [
    "sns.kdeplot(np.random.randn(1000))\n",
    "plt.title(\"KDE Plot\")\n",
    "plt.show()"
   ]
  },
  {
   "cell_type": "markdown",
   "metadata": {},
   "source": [
    "## ✅ 17. Pairplot"
   ]
  },
  {
   "cell_type": "code",
   "execution_count": null,
   "metadata": {},
   "outputs": [],
   "source": [
    "iris = sns.load_dataset('iris')\n",
    "sns.pairplot(iris, hue='species')\n",
    "plt.show()"
   ]
  },
  {
   "cell_type": "markdown",
   "metadata": {},
   "source": [
    "## ✅ 18. Countplot"
   ]
  },
  {
   "cell_type": "code",
   "execution_count": null,
   "metadata": {},
   "outputs": [],
   "source": [
    "sns.countplot(x='species', data=iris)\n",
    "plt.title(\"Countplot of Species\")\n",
    "plt.show()"
   ]
  },
  {
   "cell_type": "markdown",
   "metadata": {},
   "source": [
    "## ✅ 19. SciPy Minimize"
   ]
  },
  {
   "cell_type": "code",
   "execution_count": null,
   "metadata": {},
   "outputs": [],
   "source": [
    "from scipy.optimize import minimize\n",
    "\n",
    "def objective(x):\n",
    "    return x[0]**2 + x[1]**2\n",
    "\n",
    "res = minimize(objective, [1, 1])\n",
    "print(\"Minimized Result:\", res.fun)"
   ]
  },
  {
   "cell_type": "markdown",
   "metadata": {},
   "source": [
    "## ✅ 20. Stack Plot"
   ]
  },
  {
   "cell_type": "code",
   "execution_count": null,
   "metadata": {},
   "outputs": [],
   "source": [
    "days = [1, 2, 3, 4, 5]\n",
    "eating = [1, 2, 3, 4, 3]\n",
    "sleeping = [2, 3, 4, 3, 2]\n",
    "working = [7, 8, 6, 9, 7]\n",
    "\n",
    "plt.stackplot(days, eating, sleeping, working, labels=['Eating', 'Sleeping', 'Working'])\n",
    "plt.legend(loc='upper left')\n",
    "plt.title(\"Stack Plot Example\")\n",
    "plt.show()"
   ]
  },
  {
   "cell_type": "markdown",
   "metadata": {},
   "source": [
    "## ✅ 21. Error Bars"
   ]
  },
  {
   "cell_type": "code",
   "execution_count": null,
   "metadata": {},
   "outputs": [],
   "source": [
    "x = np.arange(0, 10, 1)\n",
    "y = np.exp(-x/3)\n",
    "errors = 0.1 + 0.2 * np.sqrt(x)\n",
    "\n",
    "plt.errorbar(x, y, yerr=errors, fmt='-o')\n",
    "plt.title(\"Plot with Error Bars\")\n",
    "plt.show()"
   ]
  },
  {
   "cell_type": "markdown",
   "metadata": {},
   "source": [
    "## ✅ 22. Bar Chart with Custom Colors"
   ]
  },
  {
   "cell_type": "code",
   "execution_count": null,
   "metadata": {},
   "outputs": [],
   "source": [
    "colors = ['red', 'green', 'blue', 'purple']\n",
    "plt.bar(students, marks, color=colors)\n",
    "plt.title(\"Custom Color Bar Chart\")\n",
    "plt.show()"
   ]
  },
  {
   "cell_type": "markdown",
   "metadata": {},
   "source": [
    "## ✅ 23. Custom Figure Size"
   ]
  },
  {
   "cell_type": "code",
   "execution_count": null,
   "metadata": {},
   "outputs": [],
   "source": [
    "plt.figure(figsize=(10, 5))\n",
    "plt.plot(x, y)\n",
    "plt.title(\"Custom Sized Figure\")\n",
    "plt.show()"
   ]
  },
  {
   "cell_type": "markdown",
   "metadata": {},
   "source": [
    "## ✅ 24. Annotation in Plot"
   ]
  },
  {
   "cell_type": "code",
   "execution_count": null,
   "metadata": {},
   "outputs": [],
   "source": [
    "plt.plot(x, y)\n",
    "plt.annotate('Peak', xy=(np.pi/2, 1), xytext=(2, 1.5),\n",
    "             arrowprops=dict(facecolor='black', arrowstyle='->'))\n",
    "plt.title(\"Annotated Plot\")\n",
    "plt.show()"
   ]
  },
  {
   "cell_type": "markdown",
   "metadata": {},
   "source": [
    "## ✅ 25. Polar Plot"
   ]
  },
  {
   "cell_type": "code",
   "execution_count": null,
   "metadata": {},
   "outputs": [],
   "source": [
    "theta = np.linspace(0, 2*np.pi, 100)\n",
    "r = np.abs(np.sin(theta))\n",
    "\n",
    "plt.polar(theta, r)\n",
    "plt.title(\"Polar Plot\")\n",
    "plt.show()"
   ]
  },
  {
   "cell_type": "markdown",
   "metadata": {},
   "source": [
    "## ✅ 26. 3D Surface Plot"
   ]
  },
  {
   "cell_type": "code",
   "execution_count": null,
   "metadata": {},
   "outputs": [],
   "source": [
    "from mpl_toolkits.mplot3d import Axes3D\n",
    "\n",
    "fig = plt.figure()\n",
    "ax = fig.add_subplot(111, projection='3d')\n",
    "X = Y = np.linspace(-5, 5, 50)\n",
    "X, Y = np.meshgrid(X, Y)\n",
    "Z = np.sin(np.sqrt(X**2 + Y**2))\n",
    "\n",
    "ax.plot_surface(X, Y, Z, cmap='viridis')\n",
    "plt.title(\"3D Surface Plot\")\n",
    "plt.show()"
   ]
  },
  {
   "cell_type": "markdown",
   "metadata": {},
   "source": [
    "## ✅ 27. Save Plot"
   ]
  },
  {
   "cell_type": "code",
   "execution_count": null,
   "metadata": {},
   "outputs": [],
   "source": [
    "plt.plot(x, y)\n",
    "plt.savefig(\"sine_wave_plot.png\")\n",
    "plt.title(\"Saved Plot Example\")\n",
    "plt.show()"
   ]
  },
  {
   "cell_type": "markdown",
   "metadata": {},
   "source": [
    "## ✅ 28. Line Styles and Markers"
   ]
  },
  {
   "cell_type": "code",
   "execution_count": null,
   "metadata": {},
   "outputs": [],
   "source": [
    "plt.plot(x, np.sin(x), 'r--', label='Dashed Red')\n",
    "plt.plot(x, np.cos(x), 'b-.', label='Dash-dot Blue')\n",
    "plt.legend()\n",
    "plt.title(\"Line Styles and Markers\")\n",
    "plt.show()"
   ]
  },
  {
   "cell_type": "markdown",
   "metadata": {},
   "source": [
    "## ✅ 29. Histogram with KDE"
   ]
  },
  {
   "cell_type": "code",
   "execution_count": null,
   "metadata": {},
   "outputs": [],
   "source": [
    "data = np.random.normal(loc=0, scale=1, size=1000)\n",
    "sns.histplot(data, kde=True)\n",
    "plt.title(\"Histogram with Density\")\n",
    "plt.show()"
   ]
  },
  {
   "cell_type": "markdown",
   "metadata": {},
   "source": [
    "## ✅ 30. Confusion Matrix Heatmap"
   ]
  },
  {
   "cell_type": "code",
   "execution_count": null,
   "metadata": {},
   "outputs": [],
   "source": [
    "from sklearn.metrics import confusion_matrix\n",
    "y_true = [0, 1, 0, 1, 0, 1, 1]\n",
    "y_pred = [0, 0, 0, 1, 1, 1, 1]\n",
    "cm = confusion_matrix(y_true, y_pred)\n",
    "\n",
    "sns.heatmap(cm, annot=True, fmt='d', cmap='Blues')\n",
    "plt.title(\"Confusion Matrix Heatmap\")\n",
    "plt.show()"
   ]
  }
 ],
 "metadata": {
  "kernelspec": {
   "display_name": "Python 3",
   "language": "python",
   "name": "python3"
  },
  "language_info": {
   "name": "python",
   "version": "3.10"
  }
 },
 "nbformat": 4,
 "nbformat_minor": 2
}
