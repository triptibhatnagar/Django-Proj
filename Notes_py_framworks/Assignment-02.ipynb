{
 "cells": [
  {
   "cell_type": "markdown",
   "metadata": {},
   "source": [
    "# Assignment 02: Evaluate the Summer Olympics, London 2012 dataset\n",
    "\n",
    "*The comments/sections provided are your cues to perform the assignment. You don't need to limit yourself to the number of rows/cells provided. You can add additional rows in each section to add more lines of code.*\n",
    "\n",
    "*If at any point in time you need help on solving this assignment, view our demo video to understand the different steps of the code.*\n",
    "\n",
    "**Happy coding!**\n",
    "\n",
    "* * *"
   ]
  },
  {
   "cell_type": "markdown",
   "metadata": {},
   "source": [
    "#### 1: View and add the dataset"
   ]
  },
  {
   "cell_type": "code",
   "execution_count": 1,
   "metadata": {
    "collapsed": true
   },
   "outputs": [],
   "source": [
    "#Import the necessary library\n",
    "\n",
    "import numpy as np"
   ]
  },
  {
   "cell_type": "code",
   "execution_count": 2,
   "metadata": {
    "collapsed": true
   },
   "outputs": [],
   "source": [
    "#Manually add the Summer Olympics, London 2012 dataset as arrays\n",
    "\n",
    "countries = np.array(['USA', 'China', 'UK', 'Russia', 'Germany', 'France', 'Italy', 'Australia', 'South Korea', 'Japan'])\n",
    "gold = np.array([46, 38, 29, 24, 11, 11, 8, 7, 13, 7])\n",
    "silver = np.array([28, 27, 17, 26, 19, 11, 9, 16, 8, 14])\n",
    "bronze = np.array([29, 23, 19, 32, 14, 12, 11, 12, 7, 17])"
   ]
  },
  {
   "cell_type": "markdown",
   "metadata": {},
   "source": [
    "#### Find the country with maximum gold medals"
   ]
  },
  {
   "cell_type": "code",
   "execution_count": 3,
   "metadata": {
    "collapsed": true
   },
   "outputs": [],
   "source": [
    "#Use the argmax() method to find the highest number of gold medals\n",
    "\n",
    "max_gold_index = np.argmax(gold)   # index of max gold"
   ]
  },
  {
   "cell_type": "code",
   "execution_count": 4,
   "metadata": {},
   "outputs": [
    {
     "name": "stdout",
     "output_type": "stream",
     "text": [
      "Country with maximum gold medals: USA → 46\n"
     ]
    }
   ],
   "source": [
    "#Print the name of the country\n",
    "\n",
    "print(\"Country with maximum gold medals:\", countries[max_gold_index], \"→\", gold[max_gold_index])"
   ]
  },
  {
   "cell_type": "markdown",
   "metadata": {},
   "source": [
    "#### Find the countries with more than 20 gold medals"
   ]
  },
  {
   "cell_type": "code",
   "execution_count": null,
   "metadata": {},
   "outputs": [
    {
     "name": "stdout",
     "output_type": "stream",
     "text": [
      "\n",
      "Countries with more than 20 gold medals: ['USA' 'China' 'UK' 'Russia']\n"
     ]
    }
   ],
   "source": [
    "#Use Boolean indexing technique to find the required output\n",
    "\n",
    "more_than_20_gold = countries[gold > 20]\n",
    "print(\"\\nCountries with more than 20 gold medals:\", more_than_20_gold)"
   ]
  },
  {
   "cell_type": "markdown",
   "metadata": {},
   "source": [
    "#### Evaluate the dataset and print the name of each country with its gold medals and total number of medals"
   ]
  },
  {
   "cell_type": "code",
   "execution_count": 7,
   "metadata": {},
   "outputs": [
    {
     "name": "stdout",
     "output_type": "stream",
     "text": [
      "\n",
      "Country-wise medal count:\n",
      "USA          → Gold: 46, Total Medals: 103\n",
      "China        → Gold: 38, Total Medals: 88\n",
      "UK           → Gold: 29, Total Medals: 65\n",
      "Russia       → Gold: 24, Total Medals: 82\n",
      "Germany      → Gold: 11, Total Medals: 44\n",
      "France       → Gold: 11, Total Medals: 34\n",
      "Italy        → Gold:  8, Total Medals: 28\n",
      "Australia    → Gold:  7, Total Medals: 35\n",
      "South Korea  → Gold: 13, Total Medals: 28\n",
      "Japan        → Gold:  7, Total Medals: 38\n"
     ]
    }
   ],
   "source": [
    "#Use a for loop to create the required output\n",
    "\n",
    "total = gold + silver + bronze\n",
    "\n",
    "print(\"\\nCountry-wise medal count:\")\n",
    "for i in range(len(countries)):\n",
    "    print(f\"{countries[i]:12} → Gold: {gold[i]:2d}, Total Medals: {total[i]:2d}\")"
   ]
  }
 ],
 "metadata": {
  "kernelspec": {
   "display_name": ".venv",
   "language": "python",
   "name": "python3"
  },
  "language_info": {
   "codemirror_mode": {
    "name": "ipython",
    "version": 3
   },
   "file_extension": ".py",
   "mimetype": "text/x-python",
   "name": "python",
   "nbconvert_exporter": "python",
   "pygments_lexer": "ipython3",
   "version": "3.12.4"
  }
 },
 "nbformat": 4,
 "nbformat_minor": 1
}
