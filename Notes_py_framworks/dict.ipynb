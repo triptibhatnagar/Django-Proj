{
 "cells": [
  {
   "cell_type": "markdown",
   "id": "9a60dbc9-7647-4602-b1da-37a033896669",
   "metadata": {},
   "source": [
    "## Assignment/ Homework 1\n",
    "\n",
    "** Answer the following questions **"
   ]
  },
  {
   "cell_type": "code",
   "execution_count": null,
   "id": "9f1d3d4a-ddb3-4d1e-b0f0-365082a3d18b",
   "metadata": {},
   "outputs": [],
   "source": [
    "Name: "
   ]
  },
  {
   "cell_type": "markdown",
   "id": "02573e0d-d721-4b0d-8ea3-917b2f83e118",
   "metadata": {},
   "source": [
    "### Q1 Given the variables:"
   ]
  },
  {
   "cell_type": "code",
   "execution_count": 13,
   "id": "18d01f22-7b82-46d9-a6f0-776fcea67ba7",
   "metadata": {},
   "outputs": [],
   "source": [
    "a = 5  \n",
    "b = 2.5  \n",
    "c = \"Hello\"  \n",
    "d = True \n",
    "\n",
    "# Identify the type of each variable using a Python function."
   ]
  },
  {
   "cell_type": "code",
   "execution_count": 15,
   "id": "0f4533e8-7251-4a55-9a81-c7a6406a7eeb",
   "metadata": {},
   "outputs": [
    {
     "name": "stdout",
     "output_type": "stream",
     "text": [
      "<class 'int'>\n",
      "<class 'float'>\n",
      "<class 'str'>\n",
      "<class 'bool'>\n"
     ]
    }
   ],
   "source": [
    "print(type(a))\n",
    "print(type(b))\n",
    "print(type(c))\n",
    "print(type(d))\n",
    "\n"
   ]
  },
  {
   "cell_type": "markdown",
   "id": "66909278-7a31-4fb9-a207-15714850520c",
   "metadata": {},
   "source": [
    "### Q2 What is the difference between lists and tuples? Provide an example where a tuple is preferable over a list.\n",
    "\n"
   ]
  },
  {
   "cell_type": "code",
   "execution_count": 16,
   "id": "53e238e3-483c-49a1-9624-5723fbf0dff8",
   "metadata": {},
   "outputs": [],
   "source": [
    "# List can be mutable and tuples are immutable types.\n",
    "#   List = [1,2,'a']\n",
    "#   Tuples= (1,2,'a')\n",
    "\n",
    "# Tuples is widel used in where we need  to save the unique identity, like account number, adhar number etc. (Tuple is used where data not to change)"
   ]
  },
  {
   "cell_type": "markdown",
   "id": "079bf2a0-bd33-4eac-82b6-41c67cd474ee",
   "metadata": {},
   "source": [
    "### Q3 Given the dictionary:"
   ]
  },
  {
   "cell_type": "code",
   "execution_count": 17,
   "id": "06e03cc0-0aac-4fb1-ab41-d66eaba85613",
   "metadata": {},
   "outputs": [],
   "source": [
    "student = {\"name\": \"Alice\", \"age\": 22, \"marks\": 85}"
   ]
  },
  {
   "cell_type": "markdown",
   "id": "23e76ec1-cccf-425e-b8a2-70583eacba09",
   "metadata": {},
   "source": [
    "1. Add a new key \"city\" with value \"New York\"."
   ]
  },
  {
   "cell_type": "code",
   "execution_count": 19,
   "id": "aa9e5248-0961-415c-8425-34526db99802",
   "metadata": {},
   "outputs": [
    {
     "data": {
      "text/plain": [
       "{'name': 'Alice', 'age': 22, 'marks': 85, 'city': 'New York'}"
      ]
     },
     "execution_count": 19,
     "metadata": {},
     "output_type": "execute_result"
    }
   ],
   "source": [
    "student['city'] = 'New York'\n",
    "student"
   ]
  },
  {
   "cell_type": "markdown",
   "id": "29ba4e55-6955-4653-b91c-4d134a65135c",
   "metadata": {},
   "source": [
    "2. Update \"marks\" to 90."
   ]
  },
  {
   "cell_type": "code",
   "execution_count": 20,
   "id": "940451d2-f9dc-4d4b-b600-ffa7e31ec8e5",
   "metadata": {},
   "outputs": [
    {
     "data": {
      "text/plain": [
       "{'name': 'Alice', 'age': 22, 'marks': '90', 'city': 'New York'}"
      ]
     },
     "execution_count": 20,
     "metadata": {},
     "output_type": "execute_result"
    }
   ],
   "source": [
    "student['marks']='90'\n",
    "student"
   ]
  },
  {
   "cell_type": "markdown",
   "id": "c86571ae-d799-44cd-a8c9-ae872be5c3d4",
   "metadata": {},
   "source": [
    "3. Delete the \"age\" key."
   ]
  },
  {
   "cell_type": "markdown",
   "id": "f3fc0e9c-8901-4faf-81ff-f5274a4124d4",
   "metadata": {},
   "source": [
    "### Q4 Given the string python, give two methods of producing the letter 'o' using indexing."
   ]
  },
  {
   "cell_type": "code",
   "execution_count": 21,
   "id": "fe76cf72-2176-4ff9-ab61-a5b5e2efe7c7",
   "metadata": {},
   "outputs": [
    {
     "data": {
      "text/plain": [
       "{'name': 'Alice', 'marks': '90', 'city': 'New York'}"
      ]
     },
     "execution_count": 21,
     "metadata": {},
     "output_type": "execute_result"
    }
   ],
   "source": [
    "del student['age']\n",
    "student"
   ]
  },
  {
   "cell_type": "code",
   "execution_count": null,
   "id": "1d8a86b9-85e6-460b-a75f-e8cf753c6f7e",
   "metadata": {},
   "outputs": [],
   "source": [
    "### Q5 Using keys and indexing, grab the 'python' from the following dictionaries:"
   ]
  },
  {
   "cell_type": "code",
   "execution_count": 23,
   "id": "7b28d99d-f1d7-415e-8d0f-2b0e11ef6ab8",
   "metadata": {},
   "outputs": [
    {
     "data": {
      "text/plain": [
       "'python'"
      ]
     },
     "execution_count": 23,
     "metadata": {},
     "output_type": "execute_result"
    }
   ],
   "source": [
    "d = {'my_key':'python'}\n",
    "value=d['my_key']\n",
    "value"
   ]
  },
  {
   "cell_type": "code",
   "execution_count": 25,
   "id": "972703d4-9e61-4bf6-89cf-cc8eccc2249d",
   "metadata": {},
   "outputs": [
    {
     "data": {
      "text/plain": [
       "'python'"
      ]
     },
     "execution_count": 25,
     "metadata": {},
     "output_type": "execute_result"
    }
   ],
   "source": [
    "d = {'k1':{'k2':'python'}}\n",
    "value = d['k1']['k2']\n",
    "value"
   ]
  },
  {
   "cell_type": "code",
   "execution_count": 28,
   "id": "b178ffeb-8d29-415a-b7c4-298aa1ed0254",
   "metadata": {},
   "outputs": [
    {
     "data": {
      "text/plain": [
       "['python']"
      ]
     },
     "execution_count": 28,
     "metadata": {},
     "output_type": "execute_result"
    }
   ],
   "source": [
    "d = {'k1':[{'nest_key':['easy to learn',['python']]}]}\n",
    "value = d['k1'][0]['nest_key'][1]\n",
    "value\n"
   ]
  },
  {
   "cell_type": "code",
   "execution_count": 31,
   "id": "c51416d3-9c8d-481e-be96-6d4658956604",
   "metadata": {},
   "outputs": [
    {
     "data": {
      "text/plain": [
       "'python'"
      ]
     },
     "execution_count": 31,
     "metadata": {},
     "output_type": "execute_result"
    }
   ],
   "source": [
    "d = {'k1':[1,2,{'k2':['open source',{'practice':[1,2,['python']]}]}]}\n",
    "value = d['k1'][2]['k2'][1]['practice'][2][0]\n",
    "value\n"
   ]
  },
  {
   "cell_type": "markdown",
   "id": "f22bf64b-4ab7-4af3-8959-7ce15a79c9e3",
   "metadata": {},
   "source": [
    "### Q6 Use a set to find the unique values of the list below:"
   ]
  },
  {
   "cell_type": "code",
   "execution_count": 33,
   "id": "4c2bc9cc-3cd5-4601-a951-8a980c6f77f6",
   "metadata": {},
   "outputs": [
    {
     "data": {
      "text/plain": [
       "{1, 2, 3, 4, 11, 22, 33, 44}"
      ]
     },
     "execution_count": 33,
     "metadata": {},
     "output_type": "execute_result"
    }
   ],
   "source": [
    "list6 = [1,2,2,33,4,44,11,22,3,3,2,1]\n",
    "unique= set(list6)\n",
    "unique"
   ]
  },
  {
   "cell_type": "markdown",
   "id": "1fd8a169-b61a-4038-aebe-a8bd119788d4",
   "metadata": {},
   "source": [
    "### Q7 What is the boolean output of the cell block below? If False, how it would be True? "
   ]
  },
  {
   "cell_type": "code",
   "execution_count": 34,
   "id": "986c66bd-07ff-4e32-a390-75db27f1ed88",
   "metadata": {},
   "outputs": [
    {
     "data": {
      "text/plain": [
       "False"
      ]
     },
     "execution_count": 34,
     "metadata": {},
     "output_type": "execute_result"
    }
   ],
   "source": [
    "# two nested lists\n",
    "l_one = [1,2,[3,4]]\n",
    "l_two = [1,2,{'k1':4}]\n",
    "\n",
    "# True or False?\n",
    "l_one[2][0] >= l_two[2]['k1']"
   ]
  },
  {
   "cell_type": "code",
   "execution_count": 35,
   "id": "2b60659d",
   "metadata": {},
   "outputs": [
    {
     "data": {
      "text/plain": [
       "True"
      ]
     },
     "execution_count": 35,
     "metadata": {},
     "output_type": "execute_result"
    }
   ],
   "source": [
    "l_one = [1, 2, [4, 4]]\n",
    "l_two = [1, 2, {'k1': 2}]\n",
    "\n",
    "l_one[2][0] >= l_two[2]['k1']\n",
    "\n"
   ]
  },
  {
   "cell_type": "markdown",
   "id": "db60aae9-7bb8-4aff-b992-838ebb742bf2",
   "metadata": {},
   "source": [
    "### Q8 Which Python operators can be used to calculate both the square and square root of a number?"
   ]
  },
  {
   "cell_type": "code",
   "execution_count": null,
   "id": "3f9bfe90-af20-4518-b408-7ced5334c88d",
   "metadata": {},
   "outputs": [],
   "source": [
    "#     ** is used in both square and square root of a number. "
   ]
  },
  {
   "cell_type": "markdown",
   "id": "54b73375-c4e9-4479-85f3-891ae0f58015",
   "metadata": {},
   "source": [
    "### Great Job !!!"
   ]
  }
 ],
 "metadata": {
  "kernelspec": {
   "display_name": "Python 3 (ipykernel)",
   "language": "python",
   "name": "python3"
  },
  "language_info": {
   "codemirror_mode": {
    "name": "ipython",
    "version": 3
   },
   "file_extension": ".py",
   "mimetype": "text/x-python",
   "name": "python",
   "nbconvert_exporter": "python",
   "pygments_lexer": "ipython3",
   "version": "3.11.5"
  }
 },
 "nbformat": 4,
 "nbformat_minor": 5
}
