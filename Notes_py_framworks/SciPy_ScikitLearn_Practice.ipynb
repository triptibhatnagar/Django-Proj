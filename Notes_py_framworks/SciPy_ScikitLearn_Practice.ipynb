{
 "cells": [
  {
   "cell_type": "markdown",
   "id": "8d4d3392",
   "metadata": {},
   "source": [
    "# Practice Notebook for SciPy and scikit-learn\n",
    "This notebook contains 30 example codes (15 using SciPy and 15 using scikit-learn) for learning and practice."
   ]
  },
  {
   "cell_type": "markdown",
   "id": "99a4704a",
   "metadata": {},
   "source": [
    "## SciPy_Integration"
   ]
  },
  {
   "cell_type": "code",
   "execution_count": null,
   "id": "a2a32f0e",
   "metadata": {},
   "outputs": [],
   "source": [
    "from scipy import integrate\n",
    "f = lambda x: x**2\n",
    "result, _ = integrate.quad(f, 0, 3)\n",
    "print(\"Integral of x^2 from 0 to 3:\", result)"
   ]
  },
  {
   "cell_type": "markdown",
   "id": "968d4526",
   "metadata": {},
   "source": [
    "## SciPy_Solve_Linear"
   ]
  },
  {
   "cell_type": "code",
   "execution_count": null,
   "id": "cf4d5809",
   "metadata": {},
   "outputs": [],
   "source": [
    "from scipy.linalg import solve\n",
    "import numpy as np\n",
    "A = np.array([[3, 1], [1, 2]])\n",
    "b = np.array([9, 8])\n",
    "x = solve(A, b)\n",
    "print(\"Solution:\", x)"
   ]
  },
  {
   "cell_type": "markdown",
   "id": "3b7d918b",
   "metadata": {},
   "source": [
    "## SciPy_FFT"
   ]
  },
  {
   "cell_type": "code",
   "execution_count": null,
   "id": "26d3356f",
   "metadata": {},
   "outputs": [],
   "source": [
    "from scipy.fft import fft\n",
    "import numpy as np\n",
    "x = np.array([1.0, 2.0, 1.0, -1.0])\n",
    "y = fft(x)\n",
    "print(\"FFT:\", y)"
   ]
  },
  {
   "cell_type": "markdown",
   "id": "48f1647b",
   "metadata": {},
   "source": [
    "## SciPy_Stats_Mean_Median"
   ]
  },
  {
   "cell_type": "code",
   "execution_count": null,
   "id": "e7cb0732",
   "metadata": {},
   "outputs": [],
   "source": [
    "from scipy import stats\n",
    "data = [1, 2, 3, 4, 5, 6]\n",
    "print(\"Mean:\", stats.tmean(data))\n",
    "print(\"Median:\", stats.scoreatpercentile(data, 50))"
   ]
  },
  {
   "cell_type": "markdown",
   "id": "4a2d1992",
   "metadata": {},
   "source": [
    "## SciPy_Stats_Mode"
   ]
  },
  {
   "cell_type": "code",
   "execution_count": null,
   "id": "d8fbb6fd",
   "metadata": {},
   "outputs": [],
   "source": [
    "from scipy import stats\n",
    "data = [1, 1, 2, 2, 2, 3]\n",
    "mode = stats.mode(data, keepdims=False)\n",
    "print(\"Mode:\", mode)"
   ]
  },
  {
   "cell_type": "markdown",
   "id": "c33908d7",
   "metadata": {},
   "source": [
    "## SciPy_Optimize_Minimize"
   ]
  },
  {
   "cell_type": "code",
   "execution_count": null,
   "id": "2de64aae",
   "metadata": {},
   "outputs": [],
   "source": [
    "from scipy.optimize import minimize\n",
    "f = lambda x: x[0]**2 + x[1]**2\n",
    "result = minimize(f, [1, 1])\n",
    "print(\"Minimum:\", result.x)"
   ]
  },
  {
   "cell_type": "markdown",
   "id": "16ef0245",
   "metadata": {},
   "source": [
    "## SciPy_ODE_Solver"
   ]
  },
  {
   "cell_type": "code",
   "execution_count": null,
   "id": "d05a9767",
   "metadata": {},
   "outputs": [],
   "source": [
    "from scipy.integrate import solve_ivp\n",
    "def dydt(t, y): return -2 * y\n",
    "sol = solve_ivp(dydt, [0, 5], [1])\n",
    "print(\"Solution:\", sol.y)"
   ]
  },
  {
   "cell_type": "markdown",
   "id": "1dc23088",
   "metadata": {},
   "source": [
    "## SciPy_Spatial_Distance"
   ]
  },
  {
   "cell_type": "code",
   "execution_count": null,
   "id": "fac2d130",
   "metadata": {},
   "outputs": [],
   "source": [
    "from scipy.spatial import distance\n",
    "a = (1, 2, 3)\n",
    "b = (4, 5, 6)\n",
    "print(\"Euclidean Distance:\", distance.euclidean(a, b))"
   ]
  },
  {
   "cell_type": "markdown",
   "id": "10fd398f",
   "metadata": {},
   "source": [
    "## SciPy_Signal_Filter"
   ]
  },
  {
   "cell_type": "code",
   "execution_count": null,
   "id": "6f176f9c",
   "metadata": {},
   "outputs": [],
   "source": [
    "from scipy import signal\n",
    "b, a = signal.butter(3, 0.05)\n",
    "print(\"Filter Coefficients:\", b, a)"
   ]
  },
  {
   "cell_type": "markdown",
   "id": "7df801bf",
   "metadata": {},
   "source": [
    "## SciPy_Sparse_Matrix"
   ]
  },
  {
   "cell_type": "code",
   "execution_count": null,
   "id": "5bd22798",
   "metadata": {},
   "outputs": [],
   "source": [
    "from scipy.sparse import csr_matrix\n",
    "import numpy as np\n",
    "arr = np.array([[0, 0, 1], [1, 0, 0]])\n",
    "sparse = csr_matrix(arr)\n",
    "print(\"Sparse Matrix:\", sparse)"
   ]
  },
  {
   "cell_type": "markdown",
   "id": "112ae3ce",
   "metadata": {},
   "source": [
    "## SciPy_Linalg_Det"
   ]
  },
  {
   "cell_type": "code",
   "execution_count": null,
   "id": "c2382f24",
   "metadata": {},
   "outputs": [],
   "source": [
    "from scipy.linalg import det\n",
    "import numpy as np\n",
    "A = np.array([[1, 2], [3, 4]])\n",
    "print(\"Determinant:\", det(A))"
   ]
  },
  {
   "cell_type": "markdown",
   "id": "e2605e5e",
   "metadata": {},
   "source": [
    "## SciPy_Signal_Convolve"
   ]
  },
  {
   "cell_type": "code",
   "execution_count": null,
   "id": "da1367b7",
   "metadata": {},
   "outputs": [],
   "source": [
    "from scipy.signal import convolve\n",
    "a = [1, 2, 3]\n",
    "b = [0, 1, 0.5]\n",
    "print(\"Convolution:\", convolve(a, b))"
   ]
  },
  {
   "cell_type": "markdown",
   "id": "e81bbdb2",
   "metadata": {},
   "source": [
    "## SciPy_Signal_Correlation"
   ]
  },
  {
   "cell_type": "code",
   "execution_count": null,
   "id": "bc816624",
   "metadata": {},
   "outputs": [],
   "source": [
    "from scipy.signal import correlate\n",
    "a = [1, 2, 3]\n",
    "b = [0, 1, 0.5]\n",
    "print(\"Correlation:\", correlate(a, b))"
   ]
  },
  {
   "cell_type": "markdown",
   "id": "de80761e",
   "metadata": {},
   "source": [
    "## SciPy_Special_Functions"
   ]
  },
  {
   "cell_type": "code",
   "execution_count": null,
   "id": "ebcffafe",
   "metadata": {},
   "outputs": [],
   "source": [
    "from scipy import special\n",
    "print(\"Gamma(5):\", special.gamma(5))\n",
    "print(\"Exp(1):\", special.exp10(1))"
   ]
  },
  {
   "cell_type": "markdown",
   "id": "c343f410",
   "metadata": {},
   "source": [
    "## SciPy_Interpolation"
   ]
  },
  {
   "cell_type": "code",
   "execution_count": null,
   "id": "c123aedb",
   "metadata": {},
   "outputs": [],
   "source": [
    "from scipy.interpolate import interp1d\n",
    "x = [0, 1, 2]\n",
    "y = [0, 1, 4]\n",
    "f = interp1d(x, y)\n",
    "print(\"Interpolated value at 1.5:\", f(1.5))"
   ]
  },
  {
   "cell_type": "markdown",
   "id": "4d9d4e01",
   "metadata": {},
   "source": [
    "## Sklearn_LinearRegression"
   ]
  },
  {
   "cell_type": "code",
   "execution_count": null,
   "id": "e744ac07",
   "metadata": {},
   "outputs": [],
   "source": [
    "from sklearn.linear_model import LinearRegression\n",
    "import numpy as np\n",
    "X = np.array([[1], [2], [3]])\n",
    "y = np.array([1, 2, 3])\n",
    "model = LinearRegression().fit(X, y)\n",
    "print(\"Coef:\", model.coef_, \"Intercept:\", model.intercept_)"
   ]
  },
  {
   "cell_type": "markdown",
   "id": "d9ebda5b",
   "metadata": {},
   "source": [
    "## Sklearn_TrainTestSplit"
   ]
  },
  {
   "cell_type": "code",
   "execution_count": null,
   "id": "ea7d783a",
   "metadata": {},
   "outputs": [],
   "source": [
    "from sklearn.model_selection import train_test_split\n",
    "X = [[1], [2], [3], [4]]\n",
    "y = [1, 2, 3, 4]\n",
    "X_train, X_test, y_train, y_test = train_test_split(X, y, test_size=0.25)\n",
    "print(\"Train:\", X_train, \"Test:\", X_test)"
   ]
  },
  {
   "cell_type": "markdown",
   "id": "8aa085d3",
   "metadata": {},
   "source": [
    "## Sklearn_KNN"
   ]
  },
  {
   "cell_type": "code",
   "execution_count": null,
   "id": "58e2b2a6",
   "metadata": {},
   "outputs": [],
   "source": [
    "from sklearn.neighbors import KNeighborsClassifier\n",
    "X = [[0], [1], [2], [3]]\n",
    "y = [0, 0, 1, 1]\n",
    "model = KNeighborsClassifier(n_neighbors=2).fit(X, y)\n",
    "print(\"Prediction for 1.5:\", model.predict([[1.5]]))"
   ]
  },
  {
   "cell_type": "markdown",
   "id": "06e01e61",
   "metadata": {},
   "source": [
    "## Sklearn_ConfusionMatrix"
   ]
  },
  {
   "cell_type": "code",
   "execution_count": null,
   "id": "5db36806",
   "metadata": {},
   "outputs": [],
   "source": [
    "from sklearn.metrics import confusion_matrix\n",
    "y_true = [0, 1, 0, 1]\n",
    "y_pred = [0, 0, 0, 1]\n",
    "print(\"Confusion Matrix:\", confusion_matrix(y_true, y_pred))"
   ]
  },
  {
   "cell_type": "markdown",
   "id": "bf1b7652",
   "metadata": {},
   "source": [
    "## Sklearn_ClassificationReport"
   ]
  },
  {
   "cell_type": "code",
   "execution_count": null,
   "id": "c6165b13",
   "metadata": {},
   "outputs": [],
   "source": [
    "from sklearn.metrics import classification_report\n",
    "y_true = [0, 1, 1, 0]\n",
    "y_pred = [0, 1, 0, 0]\n",
    "print(classification_report(y_true, y_pred))"
   ]
  },
  {
   "cell_type": "markdown",
   "id": "5708b688",
   "metadata": {},
   "source": [
    "## Sklearn_Accuracy"
   ]
  },
  {
   "cell_type": "code",
   "execution_count": null,
   "id": "dcb9a558",
   "metadata": {},
   "outputs": [],
   "source": [
    "from sklearn.metrics import accuracy_score\n",
    "y_true = [1, 0, 1]\n",
    "y_pred = [1, 1, 1]\n",
    "print(\"Accuracy:\", accuracy_score(y_true, y_pred))"
   ]
  },
  {
   "cell_type": "markdown",
   "id": "6bfa646c",
   "metadata": {},
   "source": [
    "## Sklearn_LogisticRegression"
   ]
  },
  {
   "cell_type": "code",
   "execution_count": null,
   "id": "31d91ead",
   "metadata": {},
   "outputs": [],
   "source": [
    "from sklearn.linear_model import LogisticRegression\n",
    "X = [[1], [2], [3], [4]]\n",
    "y = [0, 0, 1, 1]\n",
    "model = LogisticRegression().fit(X, y)\n",
    "print(\"Prediction:\", model.predict([[1.5]]))"
   ]
  },
  {
   "cell_type": "markdown",
   "id": "b8e29cdc",
   "metadata": {},
   "source": [
    "## Sklearn_DecisionTree"
   ]
  },
  {
   "cell_type": "code",
   "execution_count": null,
   "id": "24302073",
   "metadata": {},
   "outputs": [],
   "source": [
    "from sklearn.tree import DecisionTreeClassifier\n",
    "X = [[0], [1], [2], [3]]\n",
    "y = [0, 0, 1, 1]\n",
    "clf = DecisionTreeClassifier().fit(X, y)\n",
    "print(\"Predict for 1.5:\", clf.predict([[1.5]]))"
   ]
  },
  {
   "cell_type": "markdown",
   "id": "0013480a",
   "metadata": {},
   "source": [
    "## Sklearn_StandardScaler"
   ]
  },
  {
   "cell_type": "code",
   "execution_count": null,
   "id": "dab07f62",
   "metadata": {},
   "outputs": [],
   "source": [
    "from sklearn.preprocessing import StandardScaler\n",
    "import numpy as np\n",
    "X = np.array([[1, 2], [3, 4]])\n",
    "scaler = StandardScaler().fit(X)\n",
    "print(\"Scaled:\", scaler.transform(X))"
   ]
  },
  {
   "cell_type": "markdown",
   "id": "c78fb7bf",
   "metadata": {},
   "source": [
    "## Sklearn_PCA"
   ]
  },
  {
   "cell_type": "code",
   "execution_count": null,
   "id": "4edc6d2f",
   "metadata": {},
   "outputs": [],
   "source": [
    "from sklearn.decomposition import PCA\n",
    "import numpy as np\n",
    "X = np.array([[1, 2], [3, 4], [5, 6]])\n",
    "pca = PCA(n_components=1).fit(X)\n",
    "print(\"PCA Result:\", pca.transform(X))"
   ]
  },
  {
   "cell_type": "markdown",
   "id": "64c37e54",
   "metadata": {},
   "source": [
    "## Sklearn_SVM"
   ]
  },
  {
   "cell_type": "code",
   "execution_count": null,
   "id": "959b3dd0",
   "metadata": {},
   "outputs": [],
   "source": [
    "from sklearn.svm import SVC\n",
    "X = [[0], [1], [2], [3]]\n",
    "y = [0, 0, 1, 1]\n",
    "clf = SVC().fit(X, y)\n",
    "print(\"Prediction:\", clf.predict([[1.5]]))"
   ]
  },
  {
   "cell_type": "markdown",
   "id": "24159357",
   "metadata": {},
   "source": [
    "## Sklearn_GridSearch"
   ]
  },
  {
   "cell_type": "code",
   "execution_count": null,
   "id": "71c5e48b",
   "metadata": {},
   "outputs": [],
   "source": [
    "from sklearn.model_selection import GridSearchCV\n",
    "from sklearn.svm import SVC\n",
    "param_grid = {'C': [1, 10]}\n",
    "grid = GridSearchCV(SVC(), param_grid, cv=2).fit([[0], [1], [2], [3]], [0, 0, 1, 1])\n",
    "print(\"Best Params:\", grid.best_params_)"
   ]
  },
  {
   "cell_type": "markdown",
   "id": "d64bc261",
   "metadata": {},
   "source": [
    "## Sklearn_KMeans"
   ]
  },
  {
   "cell_type": "code",
   "execution_count": null,
   "id": "cd16e6ac",
   "metadata": {},
   "outputs": [],
   "source": [
    "from sklearn.cluster import KMeans\n",
    "import numpy as np\n",
    "X = np.array([[1, 2], [1, 4], [5, 6]])\n",
    "kmeans = KMeans(n_clusters=2, n_init=10).fit(X)\n",
    "print(\"Cluster Centers:\", kmeans.cluster_centers_)"
   ]
  },
  {
   "cell_type": "markdown",
   "id": "5523c577",
   "metadata": {},
   "source": [
    "## Sklearn_Pipeline"
   ]
  },
  {
   "cell_type": "code",
   "execution_count": null,
   "id": "07687224",
   "metadata": {},
   "outputs": [],
   "source": [
    "from sklearn.pipeline import Pipeline\n",
    "from sklearn.preprocessing import StandardScaler\n",
    "from sklearn.linear_model import LogisticRegression\n",
    "pipe = Pipeline([('scaler', StandardScaler()), ('lr', LogisticRegression())])\n",
    "pipe.fit([[1, 2], [2, 3]], [0, 1])\n",
    "print(\"Pipeline Predict:\", pipe.predict([[1.5, 2.5]]))"
   ]
  }
 ],
 "metadata": {
  "language_info": {
   "name": "python"
  }
 },
 "nbformat": 4,
 "nbformat_minor": 5
}
