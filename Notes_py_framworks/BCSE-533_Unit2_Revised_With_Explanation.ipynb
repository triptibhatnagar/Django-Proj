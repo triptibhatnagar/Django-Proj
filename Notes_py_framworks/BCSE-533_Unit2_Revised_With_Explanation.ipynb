{
 "cells": [
  {
   "cell_type": "markdown",
   "id": "f3230620",
   "metadata": {},
   "source": [
    "# BCSE-533: Python & Its Framework\n",
    "## Unit 2 (Enhanced): Django Basic Concepts – With File and Import Explanations"
   ]
  },
  {
   "cell_type": "markdown",
   "id": "fa9c9ec3",
   "metadata": {},
   "source": [
    "### Objective:\n",
    "This notebook provides a complete guide on building a basic Django project and app, including why each file, module, and import is used."
   ]
  },
  {
   "cell_type": "markdown",
   "id": "f69b029e",
   "metadata": {},
   "source": [
    "### Step 1: Install Django"
   ]
  },
  {
   "cell_type": "code",
   "execution_count": null,
   "id": "209318cc",
   "metadata": {},
   "outputs": [],
   "source": [
    "!pip install django"
   ]
  },
  {
   "cell_type": "markdown",
   "id": "062b7c5a",
   "metadata": {},
   "source": [
    "Django is the Python web framework we’ll use. Install it using `pip` to start building web applications."
   ]
  },
  {
   "cell_type": "markdown",
   "id": "16d2d51b",
   "metadata": {},
   "source": [
    "### Step 2: Create a Django Project"
   ]
  },
  {
   "cell_type": "code",
   "execution_count": null,
   "id": "efc09267",
   "metadata": {},
   "outputs": [],
   "source": [
    "!django-admin startproject myproject"
   ]
  },
  {
   "cell_type": "markdown",
   "id": "dec75eb8",
   "metadata": {},
   "source": [
    "`django-admin startproject` creates the base folder structure for your Django project, including settings and URL configuration."
   ]
  },
  {
   "cell_type": "markdown",
   "id": "1c59dd49",
   "metadata": {},
   "source": [
    "### Step 3: Create a Django App"
   ]
  },
  {
   "cell_type": "code",
   "execution_count": null,
   "id": "908d68de",
   "metadata": {},
   "outputs": [],
   "source": [
    "%cd myproject\n",
    "!python manage.py startapp blog"
   ]
  },
  {
   "cell_type": "markdown",
   "id": "7dbc0509",
   "metadata": {},
   "source": [
    "Every Django project is composed of apps. Here we create a blog app where our logic will reside."
   ]
  },
  {
   "cell_type": "markdown",
   "id": "da90a943",
   "metadata": {},
   "source": [
    "### Step 4: Register the App in `settings.py`"
   ]
  },
  {
   "cell_type": "code",
   "execution_count": null,
   "id": "bdde3a6f",
   "metadata": {},
   "outputs": [],
   "source": [
    "# myproject/settings.py\n",
    "INSTALLED_APPS = [\n",
    "    'django.contrib.admin',\n",
    "    'django.contrib.auth',\n",
    "    ...\n",
    "    'blog',  # <-- Our custom app\n",
    "]"
   ]
  },
  {
   "cell_type": "markdown",
   "id": "f4b122d5",
   "metadata": {},
   "source": [
    "The `INSTALLED_APPS` list tells Django to include our app in the project lifecycle."
   ]
  },
  {
   "cell_type": "markdown",
   "id": "fe6b34b9",
   "metadata": {},
   "source": [
    "### Step 5: Create a View in `views.py`"
   ]
  },
  {
   "cell_type": "code",
   "execution_count": null,
   "id": "bf90d4d1",
   "metadata": {},
   "outputs": [],
   "source": [
    "# blog/views.py\n",
    "from django.http import HttpResponse  # Used to return plain text HTTP responses\n",
    "\n",
    "def hello(request):\n",
    "    return HttpResponse(\"Hello from Django!\")\n"
   ]
  },
  {
   "cell_type": "markdown",
   "id": "55f01f56",
   "metadata": {},
   "source": [
    "`views.py` handles logic for a web request. `HttpResponse` is used to return plain content as response."
   ]
  },
  {
   "cell_type": "markdown",
   "id": "39965b38",
   "metadata": {},
   "source": [
    "### Step 6: Create `urls.py` for the App"
   ]
  },
  {
   "cell_type": "code",
   "execution_count": null,
   "id": "8a122a0f",
   "metadata": {},
   "outputs": [],
   "source": [
    "# blog/urls.py\n",
    "from django.urls import path  # For URL routing\n",
    "from .views import hello  # Importing our view\n",
    "\n",
    "urlpatterns = [\n",
    "    path('', hello, name='hello'),\n",
    "]"
   ]
  },
  {
   "cell_type": "markdown",
   "id": "a469c363",
   "metadata": {},
   "source": [
    "This file maps URL paths to views. We import our custom view `hello` to serve when a request hits the root path."
   ]
  },
  {
   "cell_type": "markdown",
   "id": "f58d025f",
   "metadata": {},
   "source": [
    "### Step 7: Include App URLs in Project-level `urls.py`"
   ]
  },
  {
   "cell_type": "code",
   "execution_count": null,
   "id": "1c665113",
   "metadata": {},
   "outputs": [],
   "source": [
    "# myproject/urls.py\n",
    "from django.contrib import admin\n",
    "from django.urls import path, include  # `include` is used to load URLs from the app\n",
    "\n",
    "urlpatterns = [\n",
    "    path('admin/', admin.site.urls),\n",
    "    path('', include('blog.urls')),  # Connects the blog app\n",
    "]\n"
   ]
  },
  {
   "cell_type": "markdown",
   "id": "51c5f413",
   "metadata": {},
   "source": [
    "`include()` allows the project to delegate URL handling to the blog app."
   ]
  },
  {
   "cell_type": "markdown",
   "id": "82afdc94",
   "metadata": {},
   "source": [
    "### Step 8: Add Template for View"
   ]
  },
  {
   "cell_type": "code",
   "execution_count": null,
   "id": "c0759064",
   "metadata": {},
   "outputs": [],
   "source": [
    "# blog/views.py\n",
    "from django.shortcuts import render  # Used to render HTML pages\n",
    "\n",
    "def home(request):\n",
    "    return render(request, 'home.html')\n"
   ]
  },
  {
   "cell_type": "markdown",
   "id": "72fe7bc8",
   "metadata": {},
   "source": [
    "`render()` looks for a template file and returns it as a response."
   ]
  },
  {
   "cell_type": "code",
   "execution_count": null,
   "id": "f946b4f8",
   "metadata": {},
   "outputs": [],
   "source": [
    "<!-- blog/templates/home.html -->\n",
    "<!DOCTYPE html>\n",
    "<html>\n",
    "<head><title>Home</title></head>\n",
    "<body>\n",
    "<h1>Hello from Template!</h1>\n",
    "</body>\n",
    "</html>"
   ]
  },
  {
   "cell_type": "markdown",
   "id": "f8d7c93c",
   "metadata": {},
   "source": [
    "### Step 10: Configure Templates Directory in `settings.py`"
   ]
  },
  {
   "cell_type": "code",
   "execution_count": null,
   "id": "ae4256b3",
   "metadata": {},
   "outputs": [],
   "source": [
    "# myproject/settings.py\n",
    "import os\n",
    "TEMPLATES = [\n",
    "    {\n",
    "        ...\n",
    "        'DIRS': [os.path.join(BASE_DIR, 'blog/templates')],\n",
    "        ...\n",
    "    }\n",
    "]"
   ]
  },
  {
   "cell_type": "markdown",
   "id": "003df8c8",
   "metadata": {},
   "source": [
    "Django needs to know where your HTML files live. This config helps Django find them."
   ]
  },
  {
   "cell_type": "markdown",
   "id": "fc8e5d8e",
   "metadata": {},
   "source": [
    "### Step 11: Create Model in `models.py`"
   ]
  },
  {
   "cell_type": "code",
   "execution_count": null,
   "id": "ef3fd878",
   "metadata": {},
   "outputs": [],
   "source": [
    "# blog/models.py\n",
    "from django.db import models  # Base class for all models\n",
    "\n",
    "class Post(models.Model):\n",
    "    title = models.CharField(max_length=100)\n",
    "    content = models.TextField()\n"
   ]
  },
  {
   "cell_type": "markdown",
   "id": "be62c8c1",
   "metadata": {},
   "source": [
    "`models.py` defines the data structure for the app. Django uses this to auto-generate DB tables."
   ]
  },
  {
   "cell_type": "markdown",
   "id": "49ce7695",
   "metadata": {},
   "source": [
    "### Step 12: Register Model in `admin.py`"
   ]
  },
  {
   "cell_type": "code",
   "execution_count": null,
   "id": "49fa2016",
   "metadata": {},
   "outputs": [],
   "source": [
    "# blog/admin.py\n",
    "from django.contrib import admin\n",
    "from .models import Post\n",
    "\n",
    "admin.site.register(Post)\n"
   ]
  },
  {
   "cell_type": "markdown",
   "id": "16d5286e",
   "metadata": {},
   "source": [
    "Allows the Post model to be managed via Django’s admin interface."
   ]
  },
  {
   "cell_type": "markdown",
   "id": "b9d3e477",
   "metadata": {},
   "source": [
    "### Step 13: Create and Apply Migrations"
   ]
  },
  {
   "cell_type": "code",
   "execution_count": null,
   "id": "d8853f3f",
   "metadata": {},
   "outputs": [],
   "source": [
    "!python manage.py makemigrations\n",
    "!python manage.py migrate"
   ]
  },
  {
   "cell_type": "markdown",
   "id": "db4765be",
   "metadata": {},
   "source": [
    "### Step 14: Create Admin User to Login to Django Admin"
   ]
  },
  {
   "cell_type": "code",
   "execution_count": null,
   "id": "2aa3f40b",
   "metadata": {},
   "outputs": [],
   "source": [
    "!python manage.py createsuperuser"
   ]
  },
  {
   "cell_type": "markdown",
   "id": "d5668533",
   "metadata": {},
   "source": [
    "### Step 15: View Data via ORM in `views.py`"
   ]
  },
  {
   "cell_type": "code",
   "execution_count": null,
   "id": "0b8d8522",
   "metadata": {},
   "outputs": [],
   "source": [
    "# blog/views.py\n",
    "from .models import Post  # ORM access\n",
    "\n",
    "def post_list(request):\n",
    "    posts = Post.objects.all()\n",
    "    return render(request, 'post_list.html', {'posts': posts})\n"
   ]
  },
  {
   "cell_type": "markdown",
   "id": "efe76d5f",
   "metadata": {},
   "source": [
    "We use Django’s ORM to query the `Post` table and send results to the template."
   ]
  },
  {
   "cell_type": "code",
   "execution_count": null,
   "id": "39c28be5",
   "metadata": {},
   "outputs": [],
   "source": [
    "<!-- blog/templates/post_list.html -->\n",
    "{% for post in posts %}\n",
    "<h2>{{ post.title }}</h2>\n",
    "<p>{{ post.content }}</p>\n",
    "{% endfor %}"
   ]
  }
 ],
 "metadata": {
  "language_info": {
   "name": "python"
  }
 },
 "nbformat": 4,
 "nbformat_minor": 5
}
