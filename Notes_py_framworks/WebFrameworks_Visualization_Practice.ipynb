{
 "cells": [
  {
   "cell_type": "markdown",
   "id": "aa738121",
   "metadata": {},
   "source": [
    "# Web Frameworks and Visualization Practice\n",
    "This notebook contains code examples using Matplotlib, Seaborn, Flask, Bottle, Django, Falcon, and TurboGears."
   ]
  },
  {
   "cell_type": "markdown",
   "id": "7fd82f84",
   "metadata": {},
   "source": [
    "## Matplotlib_Line_Plot"
   ]
  },
  {
   "cell_type": "code",
   "execution_count": null,
   "id": "c9cdcace",
   "metadata": {},
   "outputs": [],
   "source": [
    "import matplotlib.pyplot as plt\n",
    "x = [1, 2, 3, 4]\n",
    "y = [10, 20, 25, 30]\n",
    "plt.plot(x, y)\n",
    "plt.title('Line Plot')\n",
    "plt.xlabel('x-axis')\n",
    "plt.ylabel('y-axis')\n",
    "plt.show()"
   ]
  },
  {
   "cell_type": "markdown",
   "id": "96af0906",
   "metadata": {},
   "source": [
    "## Matplotlib_Bar_Chart"
   ]
  },
  {
   "cell_type": "code",
   "execution_count": null,
   "id": "b38bf642",
   "metadata": {},
   "outputs": [],
   "source": [
    "import matplotlib.pyplot as plt\n",
    "x = ['A', 'B', 'C']\n",
    "y = [5, 7, 3]\n",
    "plt.bar(x, y, color='orange')\n",
    "plt.title('Bar Chart')\n",
    "plt.show()"
   ]
  },
  {
   "cell_type": "markdown",
   "id": "b63095d0",
   "metadata": {},
   "source": [
    "## Matplotlib_Pie_Chart"
   ]
  },
  {
   "cell_type": "code",
   "execution_count": null,
   "id": "b8911e56",
   "metadata": {},
   "outputs": [],
   "source": [
    "import matplotlib.pyplot as plt\n",
    "sizes = [25, 35, 40]\n",
    "labels = ['Apples', 'Bananas', 'Cherries']\n",
    "plt.pie(sizes, labels=labels, autopct='%1.1f%%')\n",
    "plt.title('Pie Chart')\n",
    "plt.show()"
   ]
  },
  {
   "cell_type": "markdown",
   "id": "6454c773",
   "metadata": {},
   "source": [
    "## Seaborn_Heatmap"
   ]
  },
  {
   "cell_type": "code",
   "execution_count": null,
   "id": "eb8fbef7",
   "metadata": {},
   "outputs": [],
   "source": [
    "import seaborn as sns\n",
    "import numpy as np\n",
    "import matplotlib.pyplot as plt\n",
    "data = np.random.rand(4, 6)\n",
    "sns.heatmap(data, annot=True)\n",
    "plt.title('Heatmap')\n",
    "plt.show()"
   ]
  },
  {
   "cell_type": "markdown",
   "id": "704b4620",
   "metadata": {},
   "source": [
    "## Seaborn_Scatterplot"
   ]
  },
  {
   "cell_type": "code",
   "execution_count": null,
   "id": "106491b5",
   "metadata": {},
   "outputs": [],
   "source": [
    "import seaborn as sns\n",
    "import matplotlib.pyplot as plt\n",
    "import pandas as pd\n",
    "df = pd.DataFrame({'x': [1, 2, 3, 4], 'y': [10, 20, 25, 30]})\n",
    "sns.scatterplot(x='x', y='y', data=df)\n",
    "plt.title('Scatter Plot')\n",
    "plt.show()"
   ]
  },
  {
   "cell_type": "markdown",
   "id": "3fb582bc",
   "metadata": {},
   "source": [
    "## Flask_Basic_App"
   ]
  },
  {
   "cell_type": "code",
   "execution_count": null,
   "id": "54bd6cc5",
   "metadata": {},
   "outputs": [],
   "source": [
    "from flask import Flask\n",
    "app = Flask(__name__)\n",
    "@app.route('/')\n",
    "def home():\n",
    "    return \"Hello, Flask!\"\n",
    "if __name__ == '__main__':\n",
    "    app.run(debug=True)"
   ]
  },
  {
   "cell_type": "markdown",
   "id": "165c5954",
   "metadata": {},
   "source": [
    "## Flask_Route_With_Variable"
   ]
  },
  {
   "cell_type": "code",
   "execution_count": null,
   "id": "7c89fff0",
   "metadata": {},
   "outputs": [],
   "source": [
    "from flask import Flask\n",
    "app = Flask(__name__)\n",
    "@app.route('/hello/<name>')\n",
    "def hello_name(name):\n",
    "    return f\"Hello {name}!\"\n",
    "if __name__ == '__main__':\n",
    "    app.run(debug=True)"
   ]
  },
  {
   "cell_type": "markdown",
   "id": "baf88302",
   "metadata": {},
   "source": [
    "## Bottle_Basic_App"
   ]
  },
  {
   "cell_type": "code",
   "execution_count": null,
   "id": "de5ab705",
   "metadata": {},
   "outputs": [],
   "source": [
    "from bottle import route, run\n",
    "@route('/')\n",
    "def home():\n",
    "    return \"Hello from Bottle!\"\n",
    "run(host='localhost', port=8080, debug=True)"
   ]
  },
  {
   "cell_type": "markdown",
   "id": "f90b51b1",
   "metadata": {},
   "source": [
    "## Bottle_Route_With_Variable"
   ]
  },
  {
   "cell_type": "code",
   "execution_count": null,
   "id": "aa25bfa2",
   "metadata": {},
   "outputs": [],
   "source": [
    "from bottle import route, run\n",
    "@route('/hello/<name>')\n",
    "def greet(name):\n",
    "    return f\"Hello {name}!\"\n",
    "run(host='localhost', port=8080, debug=True)"
   ]
  },
  {
   "cell_type": "markdown",
   "id": "84cfbf86",
   "metadata": {},
   "source": [
    "## TurboGears_Basic_Example"
   ]
  },
  {
   "cell_type": "code",
   "execution_count": null,
   "id": "bf52b435",
   "metadata": {},
   "outputs": [],
   "source": [
    "# TurboGears sample controller method\n",
    "# Real use requires project setup\n",
    "from tg import expose, TGController\n",
    "class RootController(TGController):\n",
    "    @expose()\n",
    "    def index(self):\n",
    "        return \"Hello from TurboGears!\" "
   ]
  },
  {
   "cell_type": "markdown",
   "id": "0b1569c7",
   "metadata": {},
   "source": [
    "## Falcon_Basic_App"
   ]
  },
  {
   "cell_type": "code",
   "execution_count": null,
   "id": "3c4819a7",
   "metadata": {},
   "outputs": [],
   "source": [
    "import falcon\n",
    "class HelloWorld:\n",
    "    def on_get(self, req, resp):\n",
    "        resp.text = 'Hello from Falcon!'\n",
    "app = falcon.App()\n",
    "app.add_route('/', HelloWorld())"
   ]
  },
  {
   "cell_type": "markdown",
   "id": "4366cf40",
   "metadata": {},
   "source": [
    "## Django_URL_View_Example"
   ]
  },
  {
   "cell_type": "code",
   "execution_count": null,
   "id": "31bcd188",
   "metadata": {},
   "outputs": [],
   "source": [
    "# urls.py\n",
    "from django.urls import path\n",
    "from . import views\n",
    "urlpatterns = [\n",
    "    path('', views.home, name='home')\n",
    "]\n",
    "\n",
    "# views.py\n",
    "from django.http import HttpResponse\n",
    "def home(request):\n",
    "    return HttpResponse(\"Hello from Django!\")\n"
   ]
  },
  {
   "cell_type": "markdown",
   "id": "de70d502",
   "metadata": {},
   "source": [
    "## Django_Model_Form"
   ]
  },
  {
   "cell_type": "code",
   "execution_count": null,
   "id": "1b2d7049",
   "metadata": {},
   "outputs": [],
   "source": [
    "# models.py\n",
    "from django.db import models\n",
    "class Student(models.Model):\n",
    "    name = models.CharField(max_length=100)\n",
    "\n",
    "# forms.py\n",
    "from django import forms\n",
    "from .models import Student\n",
    "class StudentForm(forms.ModelForm):\n",
    "    class Meta:\n",
    "        model = Student\n",
    "        fields = ['name']\n"
   ]
  },
  {
   "cell_type": "markdown",
   "id": "f6ef7cd3",
   "metadata": {},
   "source": [
    "## Django_Template_Example"
   ]
  },
  {
   "cell_type": "code",
   "execution_count": null,
   "id": "4914a9ad",
   "metadata": {},
   "outputs": [],
   "source": [
    "<!-- template.html -->\n",
    "<html>\n",
    "  <body>\n",
    "    <h1>Hello {{ name }}</h1>\n",
    "  </body>\n",
    "</html>"
   ]
  }
 ],
 "metadata": {
  "language_info": {
   "name": "python"
  }
 },
 "nbformat": 4,
 "nbformat_minor": 5
}
