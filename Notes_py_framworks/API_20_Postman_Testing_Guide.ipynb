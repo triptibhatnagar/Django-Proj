{
 "cells": [
  {
   "cell_type": "markdown",
   "id": "d001d6b1",
   "metadata": {},
   "source": [
    "# 20+ API Project Samples with Flask, FastAPI, Django\n",
    "This notebook includes small API project examples with running instructions for each framework. Use this as a reference and hands-on practice for learning API development in Python."
   ]
  },
  {
   "cell_type": "markdown",
   "id": "f3702309",
   "metadata": {},
   "source": [
    "## 📌 Project 1: Hello World API (Flask)"
   ]
  },
  {
   "cell_type": "code",
   "execution_count": null,
   "id": "95b4fd81",
   "metadata": {},
   "outputs": [],
   "source": [
    "from flask import Flask\n",
    "app = Flask(__name__)\n",
    "@app.route('/')\n",
    "def home():\n",
    "    return \"Hello, World!\"\n",
    "if __name__ == '__main__':\n",
    "    app.run(debug=True)"
   ]
  },
  {
   "cell_type": "markdown",
   "id": "7e855aa5",
   "metadata": {},
   "source": [
    "### 🔧 How to Test This API in Postman\n",
    "1. **Run the API server** using the code above (typically with `python filename.py` or inside the notebook cell).\n",
    "2. Open **Postman**.\n",
    "3. Select **HTTP Method**: `GET` or `POST` based on function type.\n",
    "4. Set **URL**: `http://127.0.0.1:5000/`\n",
    "5. If the API accepts data (like POST), go to the `Body` tab → choose `raw` → `JSON` and enter the request body.\n",
    "6. Click `Send`.\n",
    "7. You should see the **response** similar to what is returned by the function.\n"
   ]
  },
  {
   "cell_type": "markdown",
   "id": "22ea3a00",
   "metadata": {},
   "source": [
    "## 📌 Project 2: Calculator API (Flask)"
   ]
  },
  {
   "cell_type": "code",
   "execution_count": null,
   "id": "ca59b3e5",
   "metadata": {},
   "outputs": [],
   "source": [
    "from flask import Flask, request, jsonify\n",
    "app = Flask(__name__)\n",
    "@app.route('/add')\n",
    "def add():\n",
    "    a = int(request.args.get('a'))\n",
    "    b = int(request.args.get('b'))\n",
    "    return jsonify({'sum': a + b})\n",
    "if __name__ == '__main__':\n",
    "    app.run(debug=True)"
   ]
  },
  {
   "cell_type": "markdown",
   "id": "7e761387",
   "metadata": {},
   "source": [
    "### 🔧 How to Test This API in Postman\n",
    "1. **Run the API server** using the code above (typically with `python filename.py` or inside the notebook cell).\n",
    "2. Open **Postman**.\n",
    "3. Select **HTTP Method**: `GET` or `POST` based on function type.\n",
    "4. Set **URL**: `http://127.0.0.1:5000/add`\n",
    "5. If the API accepts data (like POST), go to the `Body` tab → choose `raw` → `JSON` and enter the request body.\n",
    "6. Click `Send`.\n",
    "7. You should see the **response** similar to what is returned by the function.\n"
   ]
  },
  {
   "cell_type": "markdown",
   "id": "bfe27274",
   "metadata": {},
   "source": [
    "## 📌 Project 3: User Registration API (Flask)"
   ]
  },
  {
   "cell_type": "code",
   "execution_count": null,
   "id": "981138b3",
   "metadata": {},
   "outputs": [],
   "source": [
    "from flask import Flask, request, jsonify\n",
    "app = Flask(__name__)\n",
    "users = []\n",
    "@app.route('/register', methods=['POST'])\n",
    "def register():\n",
    "    user = request.get_json()\n",
    "    users.append(user)\n",
    "    return jsonify(user), 201\n",
    "if __name__ == '__main__':\n",
    "    app.run(debug=True)"
   ]
  },
  {
   "cell_type": "markdown",
   "id": "a218a8dd",
   "metadata": {},
   "source": [
    "### 🔧 How to Test This API in Postman\n",
    "1. **Run the API server** using the code above (typically with `python filename.py` or inside the notebook cell).\n",
    "2. Open **Postman**.\n",
    "3. Select **HTTP Method**: `GET` or `POST` based on function type.\n",
    "4. Set **URL**: `http://127.0.0.1:5000/register, methods=[POST]`\n",
    "5. If the API accepts data (like POST), go to the `Body` tab → choose `raw` → `JSON` and enter the request body.\n",
    "6. Click `Send`.\n",
    "7. You should see the **response** similar to what is returned by the function.\n"
   ]
  },
  {
   "cell_type": "markdown",
   "id": "2651f637",
   "metadata": {},
   "source": [
    "## 📌 Project 4: Hello API (FastAPI)"
   ]
  },
  {
   "cell_type": "code",
   "execution_count": null,
   "id": "6a05ceab",
   "metadata": {},
   "outputs": [],
   "source": [
    "from fastapi import FastAPI\n",
    "app = FastAPI()\n",
    "@app.get(\"/\")\n",
    "def read_root():\n",
    "    return {\"Hello\": \"World\"}"
   ]
  },
  {
   "cell_type": "markdown",
   "id": "3c34451d",
   "metadata": {},
   "source": [
    "### 🔧 How to Test This API in Postman\n",
    "1. **Run the API server** using the code above (typically with `python filename.py` or inside the notebook cell).\n",
    "2. Open **Postman**.\n",
    "3. Select **HTTP Method**: `GET` or `POST` based on function type.\n",
    "4. Set **URL**: `http://127.0.0.1:5000/`\n",
    "5. If the API accepts data (like POST), go to the `Body` tab → choose `raw` → `JSON` and enter the request body.\n",
    "6. Click `Send`.\n",
    "7. You should see the **response** similar to what is returned by the function.\n"
   ]
  },
  {
   "cell_type": "markdown",
   "id": "d4f82374",
   "metadata": {},
   "source": [
    "## 📌 Project 5: BMI Calculator (FastAPI)"
   ]
  },
  {
   "cell_type": "code",
   "execution_count": null,
   "id": "e7c0850c",
   "metadata": {},
   "outputs": [],
   "source": [
    "from fastapi import FastAPI\n",
    "app = FastAPI()\n",
    "@app.get(\"/bmi\")\n",
    "def bmi(weight: float, height: float):\n",
    "    return {\"bmi\": weight / (height * height)}"
   ]
  },
  {
   "cell_type": "markdown",
   "id": "7e05e7a7",
   "metadata": {},
   "source": [
    "### 🔧 How to Test This API in Postman\n",
    "1. **Run the API server** using the code above (typically with `python filename.py` or inside the notebook cell).\n",
    "2. Open **Postman**.\n",
    "3. Select **HTTP Method**: `GET` or `POST` based on function type.\n",
    "4. Set **URL**: `http://127.0.0.1:5000/`\n",
    "5. If the API accepts data (like POST), go to the `Body` tab → choose `raw` → `JSON` and enter the request body.\n",
    "6. Click `Send`.\n",
    "7. You should see the **response** similar to what is returned by the function.\n"
   ]
  },
  {
   "cell_type": "markdown",
   "id": "888289d2",
   "metadata": {},
   "source": [
    "## 📌 Project 6: Add Numbers (FastAPI)"
   ]
  },
  {
   "cell_type": "code",
   "execution_count": null,
   "id": "8166501b",
   "metadata": {},
   "outputs": [],
   "source": [
    "from fastapi import FastAPI\n",
    "app = FastAPI()\n",
    "@app.get(\"/add\")\n",
    "def add(a: int, b: int):\n",
    "    return {\"sum\": a + b}"
   ]
  },
  {
   "cell_type": "markdown",
   "id": "4c825693",
   "metadata": {},
   "source": [
    "### 🔧 How to Test This API in Postman\n",
    "1. **Run the API server** using the code above (typically with `python filename.py` or inside the notebook cell).\n",
    "2. Open **Postman**.\n",
    "3. Select **HTTP Method**: `GET` or `POST` based on function type.\n",
    "4. Set **URL**: `http://127.0.0.1:5000/`\n",
    "5. If the API accepts data (like POST), go to the `Body` tab → choose `raw` → `JSON` and enter the request body.\n",
    "6. Click `Send`.\n",
    "7. You should see the **response** similar to what is returned by the function.\n"
   ]
  },
  {
   "cell_type": "markdown",
   "id": "51f0c841",
   "metadata": {},
   "source": [
    "## 📌 Project 7: User CRUD (FastAPI)"
   ]
  },
  {
   "cell_type": "code",
   "execution_count": null,
   "id": "32911558",
   "metadata": {},
   "outputs": [],
   "source": [
    "from fastapi import FastAPI\n",
    "from pydantic import BaseModel\n",
    "app = FastAPI()\n",
    "users = []\n",
    "class User(BaseModel):\n",
    "    name: str\n",
    "    email: str\n",
    "@app.post(\"/user\")\n",
    "def create_user(user: User):\n",
    "    users.append(user.dict())\n",
    "    return user\n",
    "@app.get(\"/users\")\n",
    "def list_users():\n",
    "    return users"
   ]
  },
  {
   "cell_type": "markdown",
   "id": "4e5084b6",
   "metadata": {},
   "source": [
    "### 🔧 How to Test This API in Postman\n",
    "1. **Run the API server** using the code above (typically with `python filename.py` or inside the notebook cell).\n",
    "2. Open **Postman**.\n",
    "3. Select **HTTP Method**: `GET` or `POST` based on function type.\n",
    "4. Set **URL**: `http://127.0.0.1:5000/`\n",
    "5. If the API accepts data (like POST), go to the `Body` tab → choose `raw` → `JSON` and enter the request body.\n",
    "6. Click `Send`.\n",
    "7. You should see the **response** similar to what is returned by the function.\n"
   ]
  },
  {
   "cell_type": "markdown",
   "id": "8c7eb0cd",
   "metadata": {},
   "source": [
    "## 📌 Project 8: Hello Django API"
   ]
  },
  {
   "cell_type": "code",
   "execution_count": null,
   "id": "785ca6cf",
   "metadata": {},
   "outputs": [],
   "source": [
    "# views.py\n",
    "from rest_framework.decorators import api_view\n",
    "from rest_framework.response import Response\n",
    "@api_view(['GET'])\n",
    "def hello(request):\n",
    "    return Response({\"message\": \"Hello from Django\"})"
   ]
  },
  {
   "cell_type": "markdown",
   "id": "e97d90f0",
   "metadata": {},
   "source": [
    "## 📌 Project 9: Add API (Django)"
   ]
  },
  {
   "cell_type": "code",
   "execution_count": null,
   "id": "4c7d4836",
   "metadata": {},
   "outputs": [],
   "source": [
    "# views.py\n",
    "from rest_framework.decorators import api_view\n",
    "from rest_framework.response import Response\n",
    "@api_view(['GET'])\n",
    "def add(request):\n",
    "    a = int(request.GET.get('a', 0))\n",
    "    b = int(request.GET.get('b', 0))\n",
    "    return Response({'sum': a + b})"
   ]
  },
  {
   "cell_type": "markdown",
   "id": "aa1a01e3",
   "metadata": {},
   "source": [
    "## 📌 Project 10: To-Do App (Flask)"
   ]
  },
  {
   "cell_type": "code",
   "execution_count": null,
   "id": "ab750296",
   "metadata": {},
   "outputs": [],
   "source": [
    "from flask import Flask, request, jsonify\n",
    "app = Flask(__name__)\n",
    "todos = []\n",
    "@app.route('/todo', methods=['POST'])\n",
    "def add_todo():\n",
    "    todo = request.get_json()\n",
    "    todos.append(todo)\n",
    "    return jsonify(todo), 201\n",
    "@app.route('/todo', methods=['GET'])\n",
    "def get_todos():\n",
    "    return jsonify(todos)\n",
    "if __name__ == '__main__':\n",
    "    app.run(debug=True)"
   ]
  },
  {
   "cell_type": "markdown",
   "id": "e14ab527",
   "metadata": {},
   "source": [
    "### 🔧 How to Test This API in Postman\n",
    "1. **Run the API server** using the code above (typically with `python filename.py` or inside the notebook cell).\n",
    "2. Open **Postman**.\n",
    "3. Select **HTTP Method**: `GET` or `POST` based on function type.\n",
    "4. Set **URL**: `http://127.0.0.1:5000/todo, methods=[GET]`\n",
    "5. If the API accepts data (like POST), go to the `Body` tab → choose `raw` → `JSON` and enter the request body.\n",
    "6. Click `Send`.\n",
    "7. You should see the **response** similar to what is returned by the function.\n"
   ]
  },
  {
   "cell_type": "markdown",
   "id": "dd5368f6",
   "metadata": {},
   "source": [
    "## 📌 Project 11: Temperature Converter (Flask)"
   ]
  },
  {
   "cell_type": "code",
   "execution_count": null,
   "id": "c42785e6",
   "metadata": {},
   "outputs": [],
   "source": [
    "from flask import Flask, request\n",
    "app = Flask(__name__)\n",
    "@app.route('/c2f')\n",
    "def celsius_to_fahrenheit():\n",
    "    c = float(request.args.get('c'))\n",
    "    f = (c * 9/5) + 32\n",
    "    return {'fahrenheit': f}\n",
    "if __name__ == '__main__':\n",
    "    app.run(debug=True)"
   ]
  },
  {
   "cell_type": "markdown",
   "id": "2016fd84",
   "metadata": {},
   "source": [
    "### 🔧 How to Test This API in Postman\n",
    "1. **Run the API server** using the code above (typically with `python filename.py` or inside the notebook cell).\n",
    "2. Open **Postman**.\n",
    "3. Select **HTTP Method**: `GET` or `POST` based on function type.\n",
    "4. Set **URL**: `http://127.0.0.1:5000/c2f`\n",
    "5. If the API accepts data (like POST), go to the `Body` tab → choose `raw` → `JSON` and enter the request body.\n",
    "6. Click `Send`.\n",
    "7. You should see the **response** similar to what is returned by the function.\n"
   ]
  },
  {
   "cell_type": "markdown",
   "id": "61e23fc2",
   "metadata": {},
   "source": [
    "## 📌 Project 12: String Reverser (FastAPI)"
   ]
  },
  {
   "cell_type": "code",
   "execution_count": null,
   "id": "2bec8757",
   "metadata": {},
   "outputs": [],
   "source": [
    "from fastapi import FastAPI\n",
    "app = FastAPI()\n",
    "@app.get(\"/reverse\")\n",
    "def reverse(text: str):\n",
    "    return {\"reversed\": text[::-1]}"
   ]
  },
  {
   "cell_type": "markdown",
   "id": "97569d26",
   "metadata": {},
   "source": [
    "### 🔧 How to Test This API in Postman\n",
    "1. **Run the API server** using the code above (typically with `python filename.py` or inside the notebook cell).\n",
    "2. Open **Postman**.\n",
    "3. Select **HTTP Method**: `GET` or `POST` based on function type.\n",
    "4. Set **URL**: `http://127.0.0.1:5000/`\n",
    "5. If the API accepts data (like POST), go to the `Body` tab → choose `raw` → `JSON` and enter the request body.\n",
    "6. Click `Send`.\n",
    "7. You should see the **response** similar to what is returned by the function.\n"
   ]
  },
  {
   "cell_type": "markdown",
   "id": "3ab3737c",
   "metadata": {},
   "source": [
    "## 📌 Project 13: Age Checker (FastAPI)"
   ]
  },
  {
   "cell_type": "code",
   "execution_count": null,
   "id": "29ae5036",
   "metadata": {},
   "outputs": [],
   "source": [
    "from fastapi import FastAPI\n",
    "app = FastAPI()\n",
    "@app.get(\"/is_adult\")\n",
    "def check_age(age: int):\n",
    "    return {\"is_adult\": age >= 18}"
   ]
  },
  {
   "cell_type": "markdown",
   "id": "db35bef0",
   "metadata": {},
   "source": [
    "### 🔧 How to Test This API in Postman\n",
    "1. **Run the API server** using the code above (typically with `python filename.py` or inside the notebook cell).\n",
    "2. Open **Postman**.\n",
    "3. Select **HTTP Method**: `GET` or `POST` based on function type.\n",
    "4. Set **URL**: `http://127.0.0.1:5000/`\n",
    "5. If the API accepts data (like POST), go to the `Body` tab → choose `raw` → `JSON` and enter the request body.\n",
    "6. Click `Send`.\n",
    "7. You should see the **response** similar to what is returned by the function.\n"
   ]
  },
  {
   "cell_type": "markdown",
   "id": "5a5e30a4",
   "metadata": {},
   "source": [
    "## 📌 Project 14: Palindrome Checker (Django)"
   ]
  },
  {
   "cell_type": "code",
   "execution_count": null,
   "id": "eca7620a",
   "metadata": {},
   "outputs": [],
   "source": [
    "# views.py\n",
    "from rest_framework.decorators import api_view\n",
    "from rest_framework.response import Response\n",
    "@api_view(['GET'])\n",
    "def is_palindrome(request):\n",
    "    word = request.GET.get('word', '')\n",
    "    return Response({'palindrome': word == word[::-1]})"
   ]
  },
  {
   "cell_type": "markdown",
   "id": "7132e949",
   "metadata": {},
   "source": [
    "## 📌 Project 15: Flask with Swagger UI (Flasgger)"
   ]
  },
  {
   "cell_type": "code",
   "execution_count": null,
   "id": "5d0901ea",
   "metadata": {},
   "outputs": [],
   "source": [
    "from flask import Flask, jsonify, request\n",
    "from flasgger import Swagger\n",
    "app = Flask(__name__)\n",
    "swagger = Swagger(app)\n",
    "@app.route('/multiply')\n",
    "def multiply():\n",
    "    \"\"\"Multiply two numbers\n",
    "    ---\n",
    "    parameters:\n",
    "      - name: a\n",
    "        in: query\n",
    "        type: integer\n",
    "        required: true\n",
    "      - name: b\n",
    "        in: query\n",
    "        type: integer\n",
    "        required: true\n",
    "    responses:\n",
    "      200:\n",
    "        description: Result\n",
    "    \"\"\"\n",
    "    a = int(request.args.get('a'))\n",
    "    b = int(request.args.get('b'))\n",
    "    return jsonify({'result': a * b})\n",
    "if __name__ == '__main__':\n",
    "    app.run(debug=True)"
   ]
  },
  {
   "cell_type": "markdown",
   "id": "3d1d7001",
   "metadata": {},
   "source": [
    "### 🔧 How to Test This API in Postman\n",
    "1. **Run the API server** using the code above (typically with `python filename.py` or inside the notebook cell).\n",
    "2. Open **Postman**.\n",
    "3. Select **HTTP Method**: `GET` or `POST` based on function type.\n",
    "4. Set **URL**: `http://127.0.0.1:5000/multiply`\n",
    "5. If the API accepts data (like POST), go to the `Body` tab → choose `raw` → `JSON` and enter the request body.\n",
    "6. Click `Send`.\n",
    "7. You should see the **response** similar to what is returned by the function.\n"
   ]
  },
  {
   "cell_type": "markdown",
   "id": "dc529fbb",
   "metadata": {},
   "source": [
    "## 📌 Project 16: Random Quote Generator (FastAPI)"
   ]
  },
  {
   "cell_type": "code",
   "execution_count": null,
   "id": "1953ac98",
   "metadata": {},
   "outputs": [],
   "source": [
    "from fastapi import FastAPI\n",
    "import random\n",
    "app = FastAPI()\n",
    "quotes = [\"Keep going!\", \"Never give up!\", \"Stay positive.\"]\n",
    "@app.get(\"/quote\")\n",
    "def get_quote():\n",
    "    return {\"quote\": random.choice(quotes)}"
   ]
  },
  {
   "cell_type": "markdown",
   "id": "1952e047",
   "metadata": {},
   "source": [
    "### 🔧 How to Test This API in Postman\n",
    "1. **Run the API server** using the code above (typically with `python filename.py` or inside the notebook cell).\n",
    "2. Open **Postman**.\n",
    "3. Select **HTTP Method**: `GET` or `POST` based on function type.\n",
    "4. Set **URL**: `http://127.0.0.1:5000/`\n",
    "5. If the API accepts data (like POST), go to the `Body` tab → choose `raw` → `JSON` and enter the request body.\n",
    "6. Click `Send`.\n",
    "7. You should see the **response** similar to what is returned by the function.\n"
   ]
  },
  {
   "cell_type": "markdown",
   "id": "4b260f7e",
   "metadata": {},
   "source": [
    "## 📌 Project 17: Even or Odd (FastAPI)"
   ]
  },
  {
   "cell_type": "code",
   "execution_count": null,
   "id": "533ccce4",
   "metadata": {},
   "outputs": [],
   "source": [
    "from fastapi import FastAPI\n",
    "app = FastAPI()\n",
    "@app.get(\"/evenodd\")\n",
    "def even_odd(num: int):\n",
    "    return {\"type\": \"even\" if num % 2 == 0 else \"odd\"}"
   ]
  },
  {
   "cell_type": "markdown",
   "id": "64ade7ab",
   "metadata": {},
   "source": [
    "### 🔧 How to Test This API in Postman\n",
    "1. **Run the API server** using the code above (typically with `python filename.py` or inside the notebook cell).\n",
    "2. Open **Postman**.\n",
    "3. Select **HTTP Method**: `GET` or `POST` based on function type.\n",
    "4. Set **URL**: `http://127.0.0.1:5000/`\n",
    "5. If the API accepts data (like POST), go to the `Body` tab → choose `raw` → `JSON` and enter the request body.\n",
    "6. Click `Send`.\n",
    "7. You should see the **response** similar to what is returned by the function.\n"
   ]
  },
  {
   "cell_type": "markdown",
   "id": "7305ced4",
   "metadata": {},
   "source": [
    "## 📌 Project 18: Square Root Calculator (Flask)"
   ]
  },
  {
   "cell_type": "code",
   "execution_count": null,
   "id": "e006abe9",
   "metadata": {},
   "outputs": [],
   "source": [
    "from flask import Flask, request\n",
    "import math\n",
    "app = Flask(__name__)\n",
    "@app.route('/sqrt')\n",
    "def sqrt():\n",
    "    n = float(request.args.get('n'))\n",
    "    return {'sqrt': math.sqrt(n)}\n",
    "if __name__ == '__main__':\n",
    "    app.run(debug=True)"
   ]
  },
  {
   "cell_type": "markdown",
   "id": "7d4141b4",
   "metadata": {},
   "source": [
    "### 🔧 How to Test This API in Postman\n",
    "1. **Run the API server** using the code above (typically with `python filename.py` or inside the notebook cell).\n",
    "2. Open **Postman**.\n",
    "3. Select **HTTP Method**: `GET` or `POST` based on function type.\n",
    "4. Set **URL**: `http://127.0.0.1:5000/sqrt`\n",
    "5. If the API accepts data (like POST), go to the `Body` tab → choose `raw` → `JSON` and enter the request body.\n",
    "6. Click `Send`.\n",
    "7. You should see the **response** similar to what is returned by the function.\n"
   ]
  },
  {
   "cell_type": "markdown",
   "id": "98a50a9e",
   "metadata": {},
   "source": [
    "## 📌 Project 19: String Length (FastAPI)"
   ]
  },
  {
   "cell_type": "code",
   "execution_count": null,
   "id": "0f827620",
   "metadata": {},
   "outputs": [],
   "source": [
    "from fastapi import FastAPI\n",
    "app = FastAPI()\n",
    "@app.get(\"/length\")\n",
    "def length(text: str):\n",
    "    return {\"length\": len(text)}"
   ]
  },
  {
   "cell_type": "markdown",
   "id": "67b8b80f",
   "metadata": {},
   "source": [
    "### 🔧 How to Test This API in Postman\n",
    "1. **Run the API server** using the code above (typically with `python filename.py` or inside the notebook cell).\n",
    "2. Open **Postman**.\n",
    "3. Select **HTTP Method**: `GET` or `POST` based on function type.\n",
    "4. Set **URL**: `http://127.0.0.1:5000/`\n",
    "5. If the API accepts data (like POST), go to the `Body` tab → choose `raw` → `JSON` and enter the request body.\n",
    "6. Click `Send`.\n",
    "7. You should see the **response** similar to what is returned by the function.\n"
   ]
  },
  {
   "cell_type": "markdown",
   "id": "b1c2e4b7",
   "metadata": {},
   "source": [
    "## 📌 Project 20: Time Server (Flask)"
   ]
  },
  {
   "cell_type": "code",
   "execution_count": null,
   "id": "621f1789",
   "metadata": {},
   "outputs": [],
   "source": [
    "from flask import Flask\n",
    "import datetime\n",
    "app = Flask(__name__)\n",
    "@app.route('/time')\n",
    "def get_time():\n",
    "    return {'time': datetime.datetime.now().isoformat()}\n",
    "if __name__ == '__main__':\n",
    "    app.run(debug=True)"
   ]
  },
  {
   "cell_type": "markdown",
   "id": "785ad3eb",
   "metadata": {},
   "source": [
    "### 🔧 How to Test This API in Postman\n",
    "1. **Run the API server** using the code above (typically with `python filename.py` or inside the notebook cell).\n",
    "2. Open **Postman**.\n",
    "3. Select **HTTP Method**: `GET` or `POST` based on function type.\n",
    "4. Set **URL**: `http://127.0.0.1:5000/time`\n",
    "5. If the API accepts data (like POST), go to the `Body` tab → choose `raw` → `JSON` and enter the request body.\n",
    "6. Click `Send`.\n",
    "7. You should see the **response** similar to what is returned by the function.\n"
   ]
  },
  {
   "cell_type": "markdown",
   "id": "98ebf42c",
   "metadata": {},
   "source": [
    "## 🚀 How to Run These API Projects\n",
    "\n",
    "### 🖥️ Steps (Windows/Mac/Linux):\n",
    "1. Open your **Terminal / Command Prompt**.\n",
    "2. Navigate to the directory where your `.py` file is saved:\n",
    "   ```bash\n",
    "   cd path/to/your/project\n",
    "   ```\n",
    "3. Run the Python file:\n",
    "   ```bash\n",
    "   python filename.py\n",
    "   ```\n",
    "\n",
    "### 🌐 Test API Endpoints:\n",
    "Open your browser or use tools like:\n",
    "- Postman\n",
    "- Curl (command-line)\n",
    "- Swagger UI (for FastAPI or Flasgger)\n",
    "\n",
    "Visit URL like:\n",
    "```\n",
    "http://127.0.0.1:5000/endpoint\n",
    "or\n",
    "http://127.0.0.1:8000/docs (FastAPI)\n",
    "```\n"
   ]
  }
 ],
 "metadata": {
  "language_info": {
   "name": "python"
  }
 },
 "nbformat": 4,
 "nbformat_minor": 5
}
